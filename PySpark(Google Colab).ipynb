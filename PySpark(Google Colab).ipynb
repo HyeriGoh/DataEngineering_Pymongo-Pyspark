{
  "nbformat": 4,
  "nbformat_minor": 0,
  "metadata": {
    "colab": {
      "name": "PySpark.ipynb",
      "provenance": []
    },
    "kernelspec": {
      "name": "python3",
      "display_name": "Python 3"
    }
  },
  "cells": [
    {
      "cell_type": "code",
      "metadata": {
        "id": "7zLF1xjMG84L",
        "colab_type": "code",
        "colab": {
          "base_uri": "https://localhost:8080/",
          "height": 34
        },
        "outputId": "b4f1c5a3-36f8-40b0-83d3-9fd77109846c"
      },
      "source": [
        "!ls"
      ],
      "execution_count": null,
      "outputs": [
        {
          "output_type": "stream",
          "text": [
            "sample_data\n"
          ],
          "name": "stdout"
        }
      ]
    },
    {
      "cell_type": "markdown",
      "metadata": {
        "id": "-SWlgJbKPWup",
        "colab_type": "text"
      },
      "source": [
        "# Initialize PySpark Steps"
      ]
    },
    {
      "cell_type": "code",
      "metadata": {
        "id": "MscQmKCpHBT4",
        "colab_type": "code",
        "colab": {
          "base_uri": "https://localhost:8080/",
          "height": 437
        },
        "outputId": "ab0b1139-99ff-42e7-a2c8-37f8d26b4a5f"
      },
      "source": [
        "!apt-get update\n",
        "!apt-get install openjdk-8-jdk-headless -qq > /dev/null\n",
        "!wget -q http://archive.apache.org/dist/spark/spark-2.3.1/spark-2.3.1-bin-hadoop2.7.tgz\n",
        "!tar xf spark-2.3.1-bin-hadoop2.7.tgz\n",
        "!pip install -q findspark"
      ],
      "execution_count": null,
      "outputs": [
        {
          "output_type": "stream",
          "text": [
            "Get:1 https://cloud.r-project.org/bin/linux/ubuntu bionic-cran35/ InRelease [3,626 B]\n",
            "Ign:2 https://developer.download.nvidia.com/compute/cuda/repos/ubuntu1804/x86_64  InRelease\n",
            "Get:3 http://security.ubuntu.com/ubuntu bionic-security InRelease [88.7 kB]\n",
            "Ign:4 https://developer.download.nvidia.com/compute/machine-learning/repos/ubuntu1804/x86_64  InRelease\n",
            "Hit:5 https://developer.download.nvidia.com/compute/cuda/repos/ubuntu1804/x86_64  Release\n",
            "Hit:6 https://developer.download.nvidia.com/compute/machine-learning/repos/ubuntu1804/x86_64  Release\n",
            "Get:7 http://ppa.launchpad.net/graphics-drivers/ppa/ubuntu bionic InRelease [21.3 kB]\n",
            "Hit:8 http://archive.ubuntu.com/ubuntu bionic InRelease\n",
            "Get:9 http://archive.ubuntu.com/ubuntu bionic-updates InRelease [88.7 kB]\n",
            "Get:10 http://ppa.launchpad.net/marutter/c2d4u3.5/ubuntu bionic InRelease [15.4 kB]\n",
            "Get:12 http://archive.ubuntu.com/ubuntu bionic-backports InRelease [74.6 kB]\n",
            "Get:14 http://ppa.launchpad.net/graphics-drivers/ppa/ubuntu bionic/main amd64 Packages [43.3 kB]\n",
            "Get:15 http://security.ubuntu.com/ubuntu bionic-security/multiverse amd64 Packages [9,279 B]\n",
            "Get:16 http://security.ubuntu.com/ubuntu bionic-security/universe amd64 Packages [869 kB]\n",
            "Get:17 http://ppa.launchpad.net/marutter/c2d4u3.5/ubuntu bionic/main Sources [1,849 kB]\n",
            "Get:18 http://archive.ubuntu.com/ubuntu bionic-updates/restricted amd64 Packages [111 kB]\n",
            "Get:19 http://security.ubuntu.com/ubuntu bionic-security/restricted amd64 Packages [93.5 kB]\n",
            "Get:20 http://security.ubuntu.com/ubuntu bionic-security/main amd64 Packages [1,014 kB]\n",
            "Get:21 http://archive.ubuntu.com/ubuntu bionic-updates/multiverse amd64 Packages [13.6 kB]\n",
            "Get:22 http://archive.ubuntu.com/ubuntu bionic-updates/universe amd64 Packages [1,409 kB]\n",
            "Get:23 http://archive.ubuntu.com/ubuntu bionic-updates/main amd64 Packages [1,321 kB]\n",
            "Get:24 http://archive.ubuntu.com/ubuntu bionic-backports/universe amd64 Packages [8,432 B]\n",
            "Get:25 http://ppa.launchpad.net/marutter/c2d4u3.5/ubuntu bionic/main amd64 Packages [892 kB]\n",
            "Fetched 7,925 kB in 3s (2,275 kB/s)\n",
            "Reading package lists... Done\n"
          ],
          "name": "stdout"
        }
      ]
    },
    {
      "cell_type": "code",
      "metadata": {
        "id": "xt_M3BPwHHz7",
        "colab_type": "code",
        "colab": {
          "base_uri": "https://localhost:8080/",
          "height": 214
        },
        "outputId": "969a0c51-fcd3-4605-8deb-d72a1542df4d"
      },
      "source": [
        "import os\n",
        "os.environ[\"JAVA_HOME\"] = \"/usr/lib/jvm/java-8-openjdk-amd64\"\n",
        "os.environ[\"SPARK_HOME\"] = \"/content/spark-2.3.1-bin-hadoop2.7\"\n",
        "\n",
        "import findspark\n",
        "findspark.init()\n",
        "from pyspark import SparkContext\n",
        "sc = SparkContext.getOrCreate()\n",
        "\n",
        "import pyspark\n",
        "from pyspark.sql import SparkSession\n",
        "spark = SparkSession.builder.getOrCreate() \n",
        "spark"
      ],
      "execution_count": null,
      "outputs": [
        {
          "output_type": "execute_result",
          "data": {
            "text/html": [
              "\n",
              "            <div>\n",
              "                <p><b>SparkSession - in-memory</b></p>\n",
              "                \n",
              "        <div>\n",
              "            <p><b>SparkContext</b></p>\n",
              "\n",
              "            <p><a href=\"http://2fadace82c21:4040\">Spark UI</a></p>\n",
              "\n",
              "            <dl>\n",
              "              <dt>Version</dt>\n",
              "                <dd><code>v2.3.1</code></dd>\n",
              "              <dt>Master</dt>\n",
              "                <dd><code>local[*]</code></dd>\n",
              "              <dt>AppName</dt>\n",
              "                <dd><code>pyspark-shell</code></dd>\n",
              "            </dl>\n",
              "        </div>\n",
              "        \n",
              "            </div>\n",
              "        "
            ],
            "text/plain": [
              "<pyspark.sql.session.SparkSession at 0x7ffadf87c550>"
            ]
          },
          "metadata": {
            "tags": []
          },
          "execution_count": 3
        }
      ]
    },
    {
      "cell_type": "code",
      "metadata": {
        "id": "3BfpnvVV04X_",
        "colab_type": "code",
        "colab": {
          "base_uri": "https://localhost:8080/",
          "height": 34
        },
        "outputId": "1db633f9-cd65-4010-e8e7-69cf28e7589a"
      },
      "source": [
        "!ls"
      ],
      "execution_count": null,
      "outputs": [
        {
          "output_type": "stream",
          "text": [
            "sample_data  spark-2.3.1-bin-hadoop2.7\tspark-2.3.1-bin-hadoop2.7.tgz\n"
          ],
          "name": "stdout"
        }
      ]
    },
    {
      "cell_type": "markdown",
      "metadata": {
        "id": "J8ejlx8aPRtR",
        "colab_type": "text"
      },
      "source": [
        "# Read Data From Google Drive Steps"
      ]
    },
    {
      "cell_type": "markdown",
      "metadata": {
        "id": "Hao1Zkh4IQSC",
        "colab_type": "text"
      },
      "source": [
        "## STEP-1: Import Libraries"
      ]
    },
    {
      "cell_type": "code",
      "metadata": {
        "id": "pbStCW4MHX0l",
        "colab_type": "code",
        "colab": {}
      },
      "source": [
        "# Code to read csv file into colaboratory:\n",
        "!pip install -U -q PyDrive\n",
        "from pydrive.auth import GoogleAuth\n",
        "from pydrive.drive import GoogleDrive\n",
        "from google.colab import auth\n",
        "from oauth2client.client import GoogleCredentials"
      ],
      "execution_count": null,
      "outputs": []
    },
    {
      "cell_type": "markdown",
      "metadata": {
        "id": "F64ZJaGJIWYa",
        "colab_type": "text"
      },
      "source": [
        "## STEP-2: Autheticate E-Mail ID\n",
        "\n"
      ]
    },
    {
      "cell_type": "code",
      "metadata": {
        "id": "IEzTTYbpHXll",
        "colab_type": "code",
        "colab": {}
      },
      "source": [
        "auth.authenticate_user()\n",
        "gauth = GoogleAuth()\n",
        "gauth.credentials = GoogleCredentials.get_application_default()\n",
        "drive = GoogleDrive(gauth)"
      ],
      "execution_count": null,
      "outputs": []
    },
    {
      "cell_type": "markdown",
      "metadata": {
        "id": "lO8wdiKtIXLy",
        "colab_type": "text"
      },
      "source": [
        "## STEP-3: Get File from Drive using file-ID"
      ]
    },
    {
      "cell_type": "code",
      "metadata": {
        "id": "4sJpsLEFIYlp",
        "colab_type": "code",
        "colab": {}
      },
      "source": [
        "downloaded = drive.CreateFile({'id':'1NMX2aeVHyh3TmcbiejUFteDUpsCMSjYG'}) # replace the id with id of file you want to access\n",
        "downloaded.GetContentFile('crime.csv') "
      ],
      "execution_count": null,
      "outputs": []
    },
    {
      "cell_type": "code",
      "metadata": {
        "id": "cqqWQpNt4fjh",
        "colab_type": "code",
        "colab": {}
      },
      "source": [
        "downloaded1 = drive.CreateFile({'id':'1xYCedvCOFkblbTIS0pCTRDJYyAVbfzS5'}) # replace the id with id of file you want to access\n",
        "downloaded1.GetContentFile('reported-crimes.csv') "
      ],
      "execution_count": null,
      "outputs": []
    },
    {
      "cell_type": "code",
      "metadata": {
        "id": "F6rgbS7r2ylk",
        "colab_type": "code",
        "colab": {
          "base_uri": "https://localhost:8080/",
          "height": 50
        },
        "outputId": "8b3e4b81-3e69-4c86-f007-403678932a17"
      },
      "source": [
        "!ls"
      ],
      "execution_count": null,
      "outputs": [
        {
          "output_type": "stream",
          "text": [
            "adc.json   reported-crimes.csv\tspark-2.3.1-bin-hadoop2.7\n",
            "crime.csv  sample_data\t\tspark-2.3.1-bin-hadoop2.7.tgz\n"
          ],
          "name": "stdout"
        }
      ]
    },
    {
      "cell_type": "markdown",
      "metadata": {
        "id": "y5UcpZ2EIZnq",
        "colab_type": "text"
      },
      "source": [
        "# Read The File in PySpark"
      ]
    },
    {
      "cell_type": "code",
      "metadata": {
        "id": "M-5jKoV1IZ7L",
        "colab_type": "code",
        "colab": {
          "base_uri": "https://localhost:8080/",
          "height": 50
        },
        "outputId": "510708e6-a42f-4919-9cc9-a7fd05d0e627"
      },
      "source": [
        "!ls"
      ],
      "execution_count": null,
      "outputs": [
        {
          "output_type": "stream",
          "text": [
            "adc.json   reported-crimes.csv\tspark-2.3.1-bin-hadoop2.7      spark-warehouse\n",
            "crime.csv  sample_data\t\tspark-2.3.1-bin-hadoop2.7.tgz\n"
          ],
          "name": "stdout"
        }
      ]
    },
    {
      "cell_type": "code",
      "metadata": {
        "id": "AahHfJKAJmov",
        "colab_type": "code",
        "colab": {
          "base_uri": "https://localhost:8080/",
          "height": 202
        },
        "outputId": "9a783b9e-9501-481c-90ee-3d21ebe95137"
      },
      "source": [
        "crime = spark.read.csv('crime.csv',header=True)\n",
        "crime.show(5)"
      ],
      "execution_count": null,
      "outputs": [
        {
          "output_type": "stream",
          "text": [
            "+-----------+----+-----+---+----+------+----------------+-------------+--------+----------+-----------+------------+\n",
            "|       TYPE|YEAR|MONTH|DAY|HOUR|MINUTE|   HUNDRED_BLOCK|NEIGHBOURHOOD|       X|         Y|   Latitude|   Longitude|\n",
            "+-----------+----+-----+---+----+------+----------------+-------------+--------+----------+-----------+------------+\n",
            "|Other Theft|2003|    5| 12|  16|    15|9XX TERMINAL AVE|   Strathcona|493906.5|5457452.47|49.26980201|-123.0837633|\n",
            "|Other Theft|2003|    5|  7|  15|    20|9XX TERMINAL AVE|   Strathcona|493906.5|5457452.47|49.26980201|-123.0837633|\n",
            "|Other Theft|2003|    4| 23|  16|    40|9XX TERMINAL AVE|   Strathcona|493906.5|5457452.47|49.26980201|-123.0837633|\n",
            "|Other Theft|2003|    4| 20|  11|    15|9XX TERMINAL AVE|   Strathcona|493906.5|5457452.47|49.26980201|-123.0837633|\n",
            "|Other Theft|2003|    4| 12|  17|    45|9XX TERMINAL AVE|   Strathcona|493906.5|5457452.47|49.26980201|-123.0837633|\n",
            "+-----------+----+-----+---+----+------+----------------+-------------+--------+----------+-----------+------------+\n",
            "only showing top 5 rows\n",
            "\n"
          ],
          "name": "stdout"
        }
      ]
    },
    {
      "cell_type": "code",
      "metadata": {
        "id": "kjwdd_fiJxFz",
        "colab_type": "code",
        "colab": {
          "base_uri": "https://localhost:8080/",
          "height": 252
        },
        "outputId": "e779d018-8e86-4257-b770-6e7cc2a33963"
      },
      "source": [
        "crime.printSchema()"
      ],
      "execution_count": null,
      "outputs": [
        {
          "output_type": "stream",
          "text": [
            "root\n",
            " |-- TYPE: string (nullable = true)\n",
            " |-- YEAR: string (nullable = true)\n",
            " |-- MONTH: string (nullable = true)\n",
            " |-- DAY: string (nullable = true)\n",
            " |-- HOUR: string (nullable = true)\n",
            " |-- MINUTE: string (nullable = true)\n",
            " |-- HUNDRED_BLOCK: string (nullable = true)\n",
            " |-- NEIGHBOURHOOD: string (nullable = true)\n",
            " |-- X: string (nullable = true)\n",
            " |-- Y: string (nullable = true)\n",
            " |-- Latitude: string (nullable = true)\n",
            " |-- Longitude: string (nullable = true)\n",
            "\n"
          ],
          "name": "stdout"
        }
      ]
    },
    {
      "cell_type": "code",
      "metadata": {
        "id": "PLfZMlas52O0",
        "colab_type": "code",
        "colab": {
          "base_uri": "https://localhost:8080/",
          "height": 34
        },
        "outputId": "e6d2613f-4e8d-4e20-a6f0-5ff361903d5c"
      },
      "source": [
        "crime.count()"
      ],
      "execution_count": null,
      "outputs": [
        {
          "output_type": "execute_result",
          "data": {
            "text/plain": [
              "530652"
            ]
          },
          "metadata": {
            "tags": []
          },
          "execution_count": 75
        }
      ]
    },
    {
      "cell_type": "code",
      "metadata": {
        "id": "y1hdnEkAKmNx",
        "colab_type": "code",
        "colab": {
          "base_uri": "https://localhost:8080/",
          "height": 218
        },
        "outputId": "7c74c8fd-5958-4983-e4a2-fe2bee9ec43f"
      },
      "source": [
        "crime.columns"
      ],
      "execution_count": null,
      "outputs": [
        {
          "output_type": "execute_result",
          "data": {
            "text/plain": [
              "['TYPE',\n",
              " 'YEAR',\n",
              " 'MONTH',\n",
              " 'DAY',\n",
              " 'HOUR',\n",
              " 'MINUTE',\n",
              " 'HUNDRED_BLOCK',\n",
              " 'NEIGHBOURHOOD',\n",
              " 'X',\n",
              " 'Y',\n",
              " 'Latitude',\n",
              " 'Longitude']"
            ]
          },
          "metadata": {
            "tags": []
          },
          "execution_count": 76
        }
      ]
    },
    {
      "cell_type": "code",
      "metadata": {
        "id": "KFVlDMb6J429",
        "colab_type": "code",
        "colab": {}
      },
      "source": [
        "from pyspark.sql.functions import to_timestamp,col\n",
        "rc = spark.read.csv('reported-crimes.csv',header=True).withColumn('Date',to_timestamp(col('Date'),'MM/dd/yyyy hh:mm:ss')).withColumn('Updated On',to_timestamp(col('Updated On'),'MM/dd/yyyy hh:mm:ss'))"
      ],
      "execution_count": null,
      "outputs": []
    },
    {
      "cell_type": "code",
      "metadata": {
        "id": "c16zXYAe6hJq",
        "colab_type": "code",
        "colab": {
          "base_uri": "https://localhost:8080/",
          "height": 222
        },
        "outputId": "8baa8ab5-290b-4bef-8a07-7956c6a466e4"
      },
      "source": [
        "rc.show(5)"
      ],
      "execution_count": null,
      "outputs": [
        {
          "output_type": "stream",
          "text": [
            "+--------+-----------+-------------------+--------------------+----+-------------------+--------------------+--------------------+------+--------+----+--------+----+--------------+--------+------------+------------+----+-------------------+--------+---------+--------+\n",
            "|      ID|Case Number|               Date|               Block|IUCR|       Primary Type|         Description|Location Description|Arrest|Domestic|Beat|District|Ward|Community Area|FBI Code|X Coordinate|Y Coordinate|Year|         Updated On|Latitude|Longitude|Location|\n",
            "+--------+-----------+-------------------+--------------------+----+-------------------+--------------------+--------------------+------+--------+----+--------+----+--------------+--------+------------+------------+----+-------------------+--------+---------+--------+\n",
            "|11034701|   JA366925|2001-01-01 11:00:00|     016XX E 86TH PL|1153| DECEPTIVE PRACTICE|FINANCIAL IDENTIT...|           RESIDENCE| false|   false|0412|     004|   8|            45|      11|        null|        null|2001|2017-08-05 03:50:08|    null|     null|    null|\n",
            "|11227287|   JB147188|2017-10-08 03:00:00|  092XX S RACINE AVE|0281|CRIM SEXUAL ASSAULT|      NON-AGGRAVATED|           RESIDENCE| false|   false|2222|     022|  21|            73|      02|        null|        null|2017|2018-02-11 03:57:41|    null|     null|    null|\n",
            "|11227583|   JB147595|2017-03-28 02:00:00|     026XX W 79TH ST|0620|           BURGLARY|      UNLAWFUL ENTRY|               OTHER| false|   false|0835|     008|  18|            70|      05|        null|        null|2017|2018-02-11 03:57:41|    null|     null|    null|\n",
            "|11227293|   JB147230|2017-09-09 08:17:00|060XX S EBERHART AVE|0810|              THEFT|           OVER $500|           RESIDENCE| false|   false|0313|     003|  20|            42|      06|        null|        null|2017|2018-02-11 03:57:41|    null|     null|    null|\n",
            "|11227634|   JB147599|2017-08-26 10:00:00| 001XX W RANDOLPH ST|0281|CRIM SEXUAL ASSAULT|      NON-AGGRAVATED|         HOTEL/MOTEL| false|   false|0122|     001|  42|            32|      02|        null|        null|2017|2018-02-11 03:57:41|    null|     null|    null|\n",
            "+--------+-----------+-------------------+--------------------+----+-------------------+--------------------+--------------------+------+--------+----+--------+----+--------------+--------+------------+------------+----+-------------------+--------+---------+--------+\n",
            "only showing top 5 rows\n",
            "\n"
          ],
          "name": "stdout"
        }
      ]
    },
    {
      "cell_type": "code",
      "metadata": {
        "id": "3HsMDq9Z6jg0",
        "colab_type": "code",
        "colab": {
          "base_uri": "https://localhost:8080/",
          "height": 420
        },
        "outputId": "320c6c22-0b2b-4204-bf24-15ce1f8db0ca"
      },
      "source": [
        "rc.printSchema()"
      ],
      "execution_count": null,
      "outputs": [
        {
          "output_type": "stream",
          "text": [
            "root\n",
            " |-- ID: string (nullable = true)\n",
            " |-- Case Number: string (nullable = true)\n",
            " |-- Date: timestamp (nullable = true)\n",
            " |-- Block: string (nullable = true)\n",
            " |-- IUCR: string (nullable = true)\n",
            " |-- Primary Type: string (nullable = true)\n",
            " |-- Description: string (nullable = true)\n",
            " |-- Location Description: string (nullable = true)\n",
            " |-- Arrest: string (nullable = true)\n",
            " |-- Domestic: string (nullable = true)\n",
            " |-- Beat: string (nullable = true)\n",
            " |-- District: string (nullable = true)\n",
            " |-- Ward: string (nullable = true)\n",
            " |-- Community Area: string (nullable = true)\n",
            " |-- FBI Code: string (nullable = true)\n",
            " |-- X Coordinate: string (nullable = true)\n",
            " |-- Y Coordinate: string (nullable = true)\n",
            " |-- Year: string (nullable = true)\n",
            " |-- Updated On: timestamp (nullable = true)\n",
            " |-- Latitude: string (nullable = true)\n",
            " |-- Longitude: string (nullable = true)\n",
            " |-- Location: string (nullable = true)\n",
            "\n"
          ],
          "name": "stdout"
        }
      ]
    },
    {
      "cell_type": "code",
      "metadata": {
        "id": "u65aAUW36oYw",
        "colab_type": "code",
        "colab": {
          "base_uri": "https://localhost:8080/",
          "height": 202
        },
        "outputId": "8e69fed3-ed24-4c14-a514-1dd24b98604b"
      },
      "source": [
        "crime.select('Type','Year').show(5)"
      ],
      "execution_count": null,
      "outputs": [
        {
          "output_type": "stream",
          "text": [
            "+-----------+----+\n",
            "|       Type|Year|\n",
            "+-----------+----+\n",
            "|Other Theft|2003|\n",
            "|Other Theft|2003|\n",
            "|Other Theft|2003|\n",
            "|Other Theft|2003|\n",
            "|Other Theft|2003|\n",
            "+-----------+----+\n",
            "only showing top 5 rows\n",
            "\n"
          ],
          "name": "stdout"
        }
      ]
    },
    {
      "cell_type": "markdown",
      "metadata": {
        "id": "tnLEac-LC3zG",
        "colab_type": "text"
      },
      "source": [
        "# Adding a new column with a constant literal value"
      ]
    },
    {
      "cell_type": "code",
      "metadata": {
        "id": "PORfzuziA6t0",
        "colab_type": "code",
        "colab": {
          "base_uri": "https://localhost:8080/",
          "height": 222
        },
        "outputId": "80528dfc-0db8-427b-e67d-4adcf5fa9b9e"
      },
      "source": [
        "from pyspark.sql.functions import lit\n",
        "\n",
        "rc_new = rc.withColumn('newCol',lit(1))\n",
        "rc_new.show(5)"
      ],
      "execution_count": null,
      "outputs": [
        {
          "output_type": "stream",
          "text": [
            "+--------+-----------+-------------------+--------------------+----+-------------------+--------------------+--------------------+------+--------+----+--------+----+--------------+--------+------------+------------+----+-------------------+--------+---------+--------+------+\n",
            "|      ID|Case Number|               Date|               Block|IUCR|       Primary Type|         Description|Location Description|Arrest|Domestic|Beat|District|Ward|Community Area|FBI Code|X Coordinate|Y Coordinate|Year|         Updated On|Latitude|Longitude|Location|newCol|\n",
            "+--------+-----------+-------------------+--------------------+----+-------------------+--------------------+--------------------+------+--------+----+--------+----+--------------+--------+------------+------------+----+-------------------+--------+---------+--------+------+\n",
            "|11034701|   JA366925|2001-01-01 11:00:00|     016XX E 86TH PL|1153| DECEPTIVE PRACTICE|FINANCIAL IDENTIT...|           RESIDENCE| false|   false|0412|     004|   8|            45|      11|        null|        null|2001|2017-08-05 03:50:08|    null|     null|    null|     1|\n",
            "|11227287|   JB147188|2017-10-08 03:00:00|  092XX S RACINE AVE|0281|CRIM SEXUAL ASSAULT|      NON-AGGRAVATED|           RESIDENCE| false|   false|2222|     022|  21|            73|      02|        null|        null|2017|2018-02-11 03:57:41|    null|     null|    null|     1|\n",
            "|11227583|   JB147595|2017-03-28 02:00:00|     026XX W 79TH ST|0620|           BURGLARY|      UNLAWFUL ENTRY|               OTHER| false|   false|0835|     008|  18|            70|      05|        null|        null|2017|2018-02-11 03:57:41|    null|     null|    null|     1|\n",
            "|11227293|   JB147230|2017-09-09 08:17:00|060XX S EBERHART AVE|0810|              THEFT|           OVER $500|           RESIDENCE| false|   false|0313|     003|  20|            42|      06|        null|        null|2017|2018-02-11 03:57:41|    null|     null|    null|     1|\n",
            "|11227634|   JB147599|2017-08-26 10:00:00| 001XX W RANDOLPH ST|0281|CRIM SEXUAL ASSAULT|      NON-AGGRAVATED|         HOTEL/MOTEL| false|   false|0122|     001|  42|            32|      02|        null|        null|2017|2018-02-11 03:57:41|    null|     null|    null|     1|\n",
            "+--------+-----------+-------------------+--------------------+----+-------------------+--------------------+--------------------+------+--------+----+--------+----+--------------+--------+------------+------------+----+-------------------+--------+---------+--------+------+\n",
            "only showing top 5 rows\n",
            "\n"
          ],
          "name": "stdout"
        }
      ]
    },
    {
      "cell_type": "markdown",
      "metadata": {
        "id": "cjfEBwIRDzs9",
        "colab_type": "text"
      },
      "source": [
        "# Remove/Drop a Column "
      ]
    },
    {
      "cell_type": "code",
      "metadata": {
        "id": "Ovq9qmzKDmHV",
        "colab_type": "code",
        "colab": {
          "base_uri": "https://localhost:8080/",
          "height": 222
        },
        "outputId": "960abb3d-afa2-48a5-e97d-cea13cfc0dd3"
      },
      "source": [
        "rc_new = rc_new.drop('IUCR')\n",
        "rc_new.show(5)"
      ],
      "execution_count": null,
      "outputs": [
        {
          "output_type": "stream",
          "text": [
            "+--------+-----------+-------------------+--------------------+-------------------+--------------------+--------------------+------+--------+----+--------+----+--------------+--------+------------+------------+----+-------------------+--------+---------+--------+------+\n",
            "|      ID|Case Number|               Date|               Block|       Primary Type|         Description|Location Description|Arrest|Domestic|Beat|District|Ward|Community Area|FBI Code|X Coordinate|Y Coordinate|Year|         Updated On|Latitude|Longitude|Location|newCol|\n",
            "+--------+-----------+-------------------+--------------------+-------------------+--------------------+--------------------+------+--------+----+--------+----+--------------+--------+------------+------------+----+-------------------+--------+---------+--------+------+\n",
            "|11034701|   JA366925|2001-01-01 11:00:00|     016XX E 86TH PL| DECEPTIVE PRACTICE|FINANCIAL IDENTIT...|           RESIDENCE| false|   false|0412|     004|   8|            45|      11|        null|        null|2001|2017-08-05 03:50:08|    null|     null|    null|     1|\n",
            "|11227287|   JB147188|2017-10-08 03:00:00|  092XX S RACINE AVE|CRIM SEXUAL ASSAULT|      NON-AGGRAVATED|           RESIDENCE| false|   false|2222|     022|  21|            73|      02|        null|        null|2017|2018-02-11 03:57:41|    null|     null|    null|     1|\n",
            "|11227583|   JB147595|2017-03-28 02:00:00|     026XX W 79TH ST|           BURGLARY|      UNLAWFUL ENTRY|               OTHER| false|   false|0835|     008|  18|            70|      05|        null|        null|2017|2018-02-11 03:57:41|    null|     null|    null|     1|\n",
            "|11227293|   JB147230|2017-09-09 08:17:00|060XX S EBERHART AVE|              THEFT|           OVER $500|           RESIDENCE| false|   false|0313|     003|  20|            42|      06|        null|        null|2017|2018-02-11 03:57:41|    null|     null|    null|     1|\n",
            "|11227634|   JB147599|2017-08-26 10:00:00| 001XX W RANDOLPH ST|CRIM SEXUAL ASSAULT|      NON-AGGRAVATED|         HOTEL/MOTEL| false|   false|0122|     001|  42|            32|      02|        null|        null|2017|2018-02-11 03:57:41|    null|     null|    null|     1|\n",
            "+--------+-----------+-------------------+--------------------+-------------------+--------------------+--------------------+------+--------+----+--------+----+--------------+--------+------------+------------+----+-------------------+--------+---------+--------+------+\n",
            "only showing top 5 rows\n",
            "\n"
          ],
          "name": "stdout"
        }
      ]
    },
    {
      "cell_type": "markdown",
      "metadata": {
        "id": "VCk2bOokFAg0",
        "colab_type": "text"
      },
      "source": [
        "# We will using Crime.csv with group by"
      ]
    },
    {
      "cell_type": "code",
      "metadata": {
        "id": "XiE_ql33FFx2",
        "colab_type": "code",
        "colab": {
          "base_uri": "https://localhost:8080/",
          "height": 202
        },
        "outputId": "48feb3b6-37f9-438e-d6e0-28b545b95979"
      },
      "source": [
        "crime.show(5)"
      ],
      "execution_count": null,
      "outputs": [
        {
          "output_type": "stream",
          "text": [
            "+-----------+----+-----+---+----+------+----------------+-------------+--------+----------+-----------+------------+\n",
            "|       TYPE|YEAR|MONTH|DAY|HOUR|MINUTE|   HUNDRED_BLOCK|NEIGHBOURHOOD|       X|         Y|   Latitude|   Longitude|\n",
            "+-----------+----+-----+---+----+------+----------------+-------------+--------+----------+-----------+------------+\n",
            "|Other Theft|2003|    5| 12|  16|    15|9XX TERMINAL AVE|   Strathcona|493906.5|5457452.47|49.26980201|-123.0837633|\n",
            "|Other Theft|2003|    5|  7|  15|    20|9XX TERMINAL AVE|   Strathcona|493906.5|5457452.47|49.26980201|-123.0837633|\n",
            "|Other Theft|2003|    4| 23|  16|    40|9XX TERMINAL AVE|   Strathcona|493906.5|5457452.47|49.26980201|-123.0837633|\n",
            "|Other Theft|2003|    4| 20|  11|    15|9XX TERMINAL AVE|   Strathcona|493906.5|5457452.47|49.26980201|-123.0837633|\n",
            "|Other Theft|2003|    4| 12|  17|    45|9XX TERMINAL AVE|   Strathcona|493906.5|5457452.47|49.26980201|-123.0837633|\n",
            "+-----------+----+-----+---+----+------+----------------+-------------+--------+----------+-----------+------------+\n",
            "only showing top 5 rows\n",
            "\n"
          ],
          "name": "stdout"
        }
      ]
    },
    {
      "cell_type": "code",
      "metadata": {
        "id": "EgqmwIpNEGkm",
        "colab_type": "code",
        "colab": {
          "base_uri": "https://localhost:8080/",
          "height": 538
        },
        "outputId": "6ba265eb-3bca-4ace-dcbe-18311e1ee86b"
      },
      "source": [
        "crime.groupBy('TYPE','YEAR').count().orderBy(['Year','count'],ascending=[False,False]).show(25)"
      ],
      "execution_count": null,
      "outputs": [
        {
          "output_type": "stream",
          "text": [
            "+--------------------+----+-----+\n",
            "|                TYPE|YEAR|count|\n",
            "+--------------------+----+-----+\n",
            "|  Theft from Vehicle|2017| 5962|\n",
            "|         Other Theft|2017| 2866|\n",
            "|            Mischief|2017| 2581|\n",
            "|Offence Against a...|2017| 1605|\n",
            "|Break and Enter R...|2017| 1304|\n",
            "|Break and Enter C...|2017| 1111|\n",
            "|    Theft of Bicycle|2017|  986|\n",
            "|    Theft of Vehicle|2017|  755|\n",
            "|Vehicle Collision...|2017|  671|\n",
            "|            Homicide|2017|   11|\n",
            "|Vehicle Collision...|2017|    5|\n",
            "|  Theft from Vehicle|2016|12806|\n",
            "|         Other Theft|2016| 5708|\n",
            "|            Mischief|2016| 4599|\n",
            "|Offence Against a...|2016| 3172|\n",
            "|Break and Enter R...|2016| 2994|\n",
            "|Break and Enter C...|2016| 2686|\n",
            "|    Theft of Bicycle|2016| 2634|\n",
            "|Vehicle Collision...|2016| 1699|\n",
            "|    Theft of Vehicle|2016| 1474|\n",
            "|Vehicle Collision...|2016|   15|\n",
            "|            Homicide|2016|   11|\n",
            "|  Theft from Vehicle|2015|10544|\n",
            "|         Other Theft|2015| 4679|\n",
            "|            Mischief|2015| 4193|\n",
            "+--------------------+----+-----+\n",
            "only showing top 25 rows\n",
            "\n"
          ],
          "name": "stdout"
        }
      ]
    },
    {
      "cell_type": "markdown",
      "metadata": {
        "id": "1gl_0QG4A-d6",
        "colab_type": "text"
      },
      "source": [
        "#PySpark Built-in Functions"
      ]
    },
    {
      "cell_type": "code",
      "metadata": {
        "id": "hqZvb7CMCOkV",
        "colab_type": "code",
        "colab": {
          "base_uri": "https://localhost:8080/",
          "height": 54
        },
        "outputId": "2a1e63a5-ba7d-4d31-b9fa-67ff39b4b0f4"
      },
      "source": [
        "from pyspark.sql import functions\n",
        "print(dir(functions))"
      ],
      "execution_count": null,
      "outputs": [
        {
          "output_type": "stream",
          "text": [
            "['AutoBatchedSerializer', 'Column', 'DataFrame', 'DataType', 'PandasUDFType', 'PickleSerializer', 'PythonEvalType', 'SparkContext', 'StringType', 'UserDefinedFunction', '__all__', '__builtins__', '__cached__', '__doc__', '__file__', '__loader__', '__name__', '__package__', '__spec__', '_binary_mathfunctions', '_collect_list_doc', '_collect_set_doc', '_create_binary_mathfunction', '_create_function', '_create_udf', '_create_window_function', '_functions', '_functions_1_4', '_functions_1_6', '_functions_2_1', '_functions_deprecated', '_lit_doc', '_message', '_string_functions', '_test', '_to_java_column', '_to_seq', '_window_functions', '_wrap_deprecated_function', 'abs', 'acos', 'add_months', 'approxCountDistinct', 'approx_count_distinct', 'array', 'array_contains', 'asc', 'ascii', 'asin', 'atan', 'atan2', 'avg', 'base64', 'bin', 'bitwiseNOT', 'blacklist', 'broadcast', 'bround', 'cbrt', 'ceil', 'coalesce', 'col', 'collect_list', 'collect_set', 'column', 'concat', 'concat_ws', 'conv', 'corr', 'cos', 'cosh', 'count', 'countDistinct', 'covar_pop', 'covar_samp', 'crc32', 'create_map', 'cume_dist', 'current_date', 'current_timestamp', 'date_add', 'date_format', 'date_sub', 'date_trunc', 'datediff', 'dayofmonth', 'dayofweek', 'dayofyear', 'decode', 'degrees', 'dense_rank', 'desc', 'encode', 'exp', 'explode', 'explode_outer', 'expm1', 'expr', 'factorial', 'first', 'floor', 'format_number', 'format_string', 'from_json', 'from_unixtime', 'from_utc_timestamp', 'functools', 'get_json_object', 'greatest', 'grouping', 'grouping_id', 'hash', 'hex', 'hour', 'hypot', 'ignore_unicode_prefix', 'initcap', 'input_file_name', 'instr', 'isnan', 'isnull', 'json_tuple', 'kurtosis', 'lag', 'last', 'last_day', 'lead', 'least', 'length', 'levenshtein', 'lit', 'locate', 'log', 'log10', 'log1p', 'log2', 'lower', 'lpad', 'ltrim', 'map_keys', 'map_values', 'math', 'max', 'md5', 'mean', 'min', 'minute', 'monotonically_increasing_id', 'month', 'months_between', 'nanvl', 'next_day', 'ntile', 'pandas_udf', 'percent_rank', 'posexplode', 'posexplode_outer', 'pow', 'quarter', 'radians', 'rand', 'randn', 'rank', 'regexp_extract', 'regexp_replace', 'repeat', 'reverse', 'rint', 'round', 'row_number', 'rpad', 'rtrim', 'second', 'sha1', 'sha2', 'shiftLeft', 'shiftRight', 'shiftRightUnsigned', 'signum', 'sin', 'since', 'sinh', 'size', 'skewness', 'sort_array', 'soundex', 'spark_partition_id', 'split', 'sqrt', 'stddev', 'stddev_pop', 'stddev_samp', 'struct', 'substring', 'substring_index', 'sum', 'sumDistinct', 'sys', 'tan', 'tanh', 'toDegrees', 'toRadians', 'to_date', 'to_json', 'to_timestamp', 'to_utc_timestamp', 'translate', 'trim', 'trunc', 'udf', 'unbase64', 'unhex', 'unix_timestamp', 'upper', 'var_pop', 'var_samp', 'variance', 'warnings', 'weekofyear', 'when', 'window', 'year']\n"
          ],
          "name": "stdout"
        }
      ]
    },
    {
      "cell_type": "code",
      "metadata": {
        "id": "HadofOeqFML_",
        "colab_type": "code",
        "colab": {}
      },
      "source": [
        "from pyspark.sql.functions import mean,sum,max"
      ],
      "execution_count": null,
      "outputs": []
    },
    {
      "cell_type": "code",
      "metadata": {
        "id": "RAq8As90BkUR",
        "colab_type": "code",
        "colab": {
          "base_uri": "https://localhost:8080/",
          "height": 118
        },
        "outputId": "36b30256-14e8-4cf8-affa-6e9bfea19069"
      },
      "source": [
        "crime.select(max(col('YEAR'))).show()"
      ],
      "execution_count": null,
      "outputs": [
        {
          "output_type": "stream",
          "text": [
            "+---------+\n",
            "|max(YEAR)|\n",
            "+---------+\n",
            "|     2017|\n",
            "+---------+\n",
            "\n"
          ],
          "name": "stdout"
        }
      ]
    },
    {
      "cell_type": "markdown",
      "metadata": {
        "id": "aitdEzvwCVgm",
        "colab_type": "text"
      },
      "source": [
        "## String Functions"
      ]
    },
    {
      "cell_type": "code",
      "metadata": {
        "id": "vE4QYGhBB25p",
        "colab_type": "code",
        "colab": {
          "base_uri": "https://localhost:8080/",
          "height": 286
        },
        "outputId": "f9a882ed-b5d4-4db6-bbe2-4f0b6eb29369"
      },
      "source": [
        "from pyspark.sql.functions import upper,lower,substring\n",
        "\n",
        "crime.select(upper(col('TYPE')),lower(col('TYPE')),substring(col('TYPE'),1,5)).show(10)"
      ],
      "execution_count": null,
      "outputs": [
        {
          "output_type": "stream",
          "text": [
            "+--------------------+--------------------+---------------------+\n",
            "|         upper(TYPE)|         lower(TYPE)|substring(TYPE, 1, 5)|\n",
            "+--------------------+--------------------+---------------------+\n",
            "|         OTHER THEFT|         other theft|                Other|\n",
            "|         OTHER THEFT|         other theft|                Other|\n",
            "|         OTHER THEFT|         other theft|                Other|\n",
            "|         OTHER THEFT|         other theft|                Other|\n",
            "|         OTHER THEFT|         other theft|                Other|\n",
            "|         OTHER THEFT|         other theft|                Other|\n",
            "|BREAK AND ENTER R...|break and enter r...|                Break|\n",
            "|            MISCHIEF|            mischief|                Misch|\n",
            "|         OTHER THEFT|         other theft|                Other|\n",
            "|BREAK AND ENTER R...|break and enter r...|                Break|\n",
            "+--------------------+--------------------+---------------------+\n",
            "only showing top 10 rows\n",
            "\n"
          ],
          "name": "stdout"
        }
      ]
    },
    {
      "cell_type": "code",
      "metadata": {
        "id": "ZkT0C816CBF1",
        "colab_type": "code",
        "colab": {
          "base_uri": "https://localhost:8080/",
          "height": 269
        },
        "outputId": "01b9d41f-a15b-4d2d-cdcf-7027fc67441c"
      },
      "source": [
        "help(substring)"
      ],
      "execution_count": null,
      "outputs": [
        {
          "output_type": "stream",
          "text": [
            "Help on function substring in module pyspark.sql.functions:\n",
            "\n",
            "substring(str, pos, len)\n",
            "    Substring starts at `pos` and is of length `len` when str is String type or\n",
            "    returns the slice of byte array that starts at `pos` in byte and is of length `len`\n",
            "    when str is Binary type.\n",
            "    \n",
            "    .. note:: The position is not zero based, but 1 based index.\n",
            "    \n",
            "    >>> df = spark.createDataFrame([('abcd',)], ['s',])\n",
            "    >>> df.select(substring(df.s, 1, 2).alias('s')).collect()\n",
            "    [Row(s='ab')]\n",
            "    \n",
            "    .. versionadded:: 1.5\n",
            "\n"
          ],
          "name": "stdout"
        }
      ]
    },
    {
      "cell_type": "code",
      "metadata": {
        "id": "D_hmce5wE9Ym",
        "colab_type": "code",
        "colab": {
          "base_uri": "https://localhost:8080/",
          "height": 554
        },
        "outputId": "fcbed913-87a0-4560-e698-9ebbb5622013"
      },
      "source": [
        "from pyspark.sql.functions import date_add,date_format,concat,col,lit,to_date,to_timestamp\n",
        "print(help(date_add),'\\n\\n',help(date_format))"
      ],
      "execution_count": null,
      "outputs": [
        {
          "output_type": "stream",
          "text": [
            "Help on function date_add in module pyspark.sql.functions:\n",
            "\n",
            "date_add(start, days)\n",
            "    Returns the date that is `days` days after `start`\n",
            "    \n",
            "    >>> df = spark.createDataFrame([('2015-04-08',)], ['dt'])\n",
            "    >>> df.select(date_add(df.dt, 1).alias('next_date')).collect()\n",
            "    [Row(next_date=datetime.date(2015, 4, 9))]\n",
            "    \n",
            "    .. versionadded:: 1.5\n",
            "\n",
            "Help on function date_format in module pyspark.sql.functions:\n",
            "\n",
            "date_format(date, format)\n",
            "    Converts a date/timestamp/string to a value of string in the format specified by the date\n",
            "    format given by the second argument.\n",
            "    \n",
            "    A pattern could be for instance `dd.MM.yyyy` and could return a string like '18.03.1993'. All\n",
            "    pattern letters of the Java class `java.text.SimpleDateFormat` can be used.\n",
            "    \n",
            "    .. note:: Use when ever possible specialized functions like `year`. These benefit from a\n",
            "        specialized implementation.\n",
            "    \n",
            "    >>> df = spark.createDataFrame([('2015-04-08',)], ['dt'])\n",
            "    >>> df.select(date_format('dt', 'MM/dd/yyy').alias('date')).collect()\n",
            "    [Row(date='04/08/2015')]\n",
            "    \n",
            "    .. versionadded:: 1.5\n",
            "\n",
            "None \n",
            "\n",
            " None\n"
          ],
          "name": "stdout"
        }
      ]
    },
    {
      "cell_type": "code",
      "metadata": {
        "id": "uO-uYC4aThLT",
        "colab_type": "code",
        "colab": {
          "base_uri": "https://localhost:8080/",
          "height": 353
        },
        "outputId": "15d77938-801a-499a-eeb6-28e91fdb97cb"
      },
      "source": [
        "help(to_date)"
      ],
      "execution_count": null,
      "outputs": [
        {
          "output_type": "stream",
          "text": [
            "Help on function to_date in module pyspark.sql.functions:\n",
            "\n",
            "to_date(col, format=None)\n",
            "    Converts a :class:`Column` of :class:`pyspark.sql.types.StringType` or\n",
            "    :class:`pyspark.sql.types.TimestampType` into :class:`pyspark.sql.types.DateType`\n",
            "    using the optionally specified format. Specify formats according to\n",
            "    `SimpleDateFormats <http://docs.oracle.com/javase/tutorial/i18n/format/simpleDateFormat.html>`_.\n",
            "    By default, it follows casting rules to :class:`pyspark.sql.types.DateType` if the format\n",
            "    is omitted (equivalent to ``col.cast(\"date\")``).\n",
            "    \n",
            "    >>> df = spark.createDataFrame([('1997-02-28 10:30:00',)], ['t'])\n",
            "    >>> df.select(to_date(df.t).alias('date')).collect()\n",
            "    [Row(date=datetime.date(1997, 2, 28))]\n",
            "    \n",
            "    >>> df = spark.createDataFrame([('1997-02-28 10:30:00',)], ['t'])\n",
            "    >>> df.select(to_date(df.t, 'yyyy-MM-dd HH:mm:ss').alias('date')).collect()\n",
            "    [Row(date=datetime.date(1997, 2, 28))]\n",
            "    \n",
            "    .. versionadded:: 2.2\n",
            "\n"
          ],
          "name": "stdout"
        }
      ]
    },
    {
      "cell_type": "code",
      "metadata": {
        "id": "Rep8Gb86suZt",
        "colab_type": "code",
        "colab": {
          "base_uri": "https://localhost:8080/",
          "height": 134
        },
        "outputId": "c10638a7-4291-4dcf-ac2d-6736e52ca40b"
      },
      "source": [
        "data = [\n",
        "    ('1990-05-03 13:10:00', 29, True),\n",
        "    ('1994-09-23 10:19:15', 25, False)\n",
        "]\n",
        "dftest = spark.createDataFrame(data, ['dob', 'age', 'is_fan'])\n",
        "dftest.show()"
      ],
      "execution_count": null,
      "outputs": [
        {
          "output_type": "stream",
          "text": [
            "+-------------------+---+------+\n",
            "|                dob|age|is_fan|\n",
            "+-------------------+---+------+\n",
            "|1990-05-03 13:10:00| 29|  true|\n",
            "|1994-09-23 10:19:15| 25| false|\n",
            "+-------------------+---+------+\n",
            "\n"
          ],
          "name": "stdout"
        }
      ]
    },
    {
      "cell_type": "code",
      "metadata": {
        "id": "rbayNzJBuffU",
        "colab_type": "code",
        "colab": {
          "base_uri": "https://localhost:8080/",
          "height": 101
        },
        "outputId": "c548a9d9-c3b2-4445-b032-6f177df60086"
      },
      "source": [
        "dftest.printSchema()"
      ],
      "execution_count": null,
      "outputs": [
        {
          "output_type": "stream",
          "text": [
            "root\n",
            " |-- dob: string (nullable = true)\n",
            " |-- age: long (nullable = true)\n",
            " |-- is_fan: boolean (nullable = true)\n",
            "\n"
          ],
          "name": "stdout"
        }
      ]
    },
    {
      "cell_type": "code",
      "metadata": {
        "id": "FXNcJJXFtW2O",
        "colab_type": "code",
        "colab": {
          "base_uri": "https://localhost:8080/",
          "height": 118
        },
        "outputId": "b789193e-d1ef-4729-d634-e49a450d5994"
      },
      "source": [
        "from pyspark.sql.functions import hour,minute\n",
        "dftest.select(hour(col('dob')),minute(col('dob'))).filter(hour(col('dob'))=='13').show()"
      ],
      "execution_count": null,
      "outputs": [
        {
          "output_type": "stream",
          "text": [
            "+---------+-----------+\n",
            "|hour(dob)|minute(dob)|\n",
            "+---------+-----------+\n",
            "|       13|         10|\n",
            "+---------+-----------+\n",
            "\n"
          ],
          "name": "stdout"
        }
      ]
    },
    {
      "cell_type": "code",
      "metadata": {
        "id": "QXlvZhxSGuBx",
        "colab_type": "code",
        "colab": {
          "base_uri": "https://localhost:8080/",
          "height": 222
        },
        "outputId": "de0dd92b-c5c9-483b-cf04-3fc84fdc215d"
      },
      "source": [
        "crime_new = crime.withColumn('dayofcrime',to_date(concat(col('YEAR'),lit('-'),col('MONTH'),lit('-'),col('DAY'))))\n",
        "crime_new.show(5)"
      ],
      "execution_count": null,
      "outputs": [
        {
          "output_type": "stream",
          "text": [
            "+-----------+----+-----+---+----+------+----------------+-------------+--------+----------+-----------+------------+----------+\n",
            "|       TYPE|YEAR|MONTH|DAY|HOUR|MINUTE|   HUNDRED_BLOCK|NEIGHBOURHOOD|       X|         Y|   Latitude|   Longitude|dayofcrime|\n",
            "+-----------+----+-----+---+----+------+----------------+-------------+--------+----------+-----------+------------+----------+\n",
            "|Other Theft|2003|    5| 12|  16|    15|9XX TERMINAL AVE|   Strathcona|493906.5|5457452.47|49.26980201|-123.0837633|2003-05-12|\n",
            "|Other Theft|2003|    5|  7|  15|    20|9XX TERMINAL AVE|   Strathcona|493906.5|5457452.47|49.26980201|-123.0837633|2003-05-07|\n",
            "|Other Theft|2003|    4| 23|  16|    40|9XX TERMINAL AVE|   Strathcona|493906.5|5457452.47|49.26980201|-123.0837633|2003-04-23|\n",
            "|Other Theft|2003|    4| 20|  11|    15|9XX TERMINAL AVE|   Strathcona|493906.5|5457452.47|49.26980201|-123.0837633|2003-04-20|\n",
            "|Other Theft|2003|    4| 12|  17|    45|9XX TERMINAL AVE|   Strathcona|493906.5|5457452.47|49.26980201|-123.0837633|2003-04-12|\n",
            "+-----------+----+-----+---+----+------+----------------+-------------+--------+----------+-----------+------------+----------+\n",
            "only showing top 5 rows\n",
            "\n"
          ],
          "name": "stdout"
        }
      ]
    },
    {
      "cell_type": "code",
      "metadata": {
        "id": "jTHKCd5IP1E6",
        "colab_type": "code",
        "colab": {
          "base_uri": "https://localhost:8080/",
          "height": 269
        },
        "outputId": "99ef1cb5-c74c-4002-b128-33bf0407896a"
      },
      "source": [
        "crime_new.printSchema()"
      ],
      "execution_count": null,
      "outputs": [
        {
          "output_type": "stream",
          "text": [
            "root\n",
            " |-- TYPE: string (nullable = true)\n",
            " |-- YEAR: string (nullable = true)\n",
            " |-- MONTH: string (nullable = true)\n",
            " |-- DAY: string (nullable = true)\n",
            " |-- HOUR: string (nullable = true)\n",
            " |-- MINUTE: string (nullable = true)\n",
            " |-- HUNDRED_BLOCK: string (nullable = true)\n",
            " |-- NEIGHBOURHOOD: string (nullable = true)\n",
            " |-- X: string (nullable = true)\n",
            " |-- Y: string (nullable = true)\n",
            " |-- Latitude: string (nullable = true)\n",
            " |-- Longitude: string (nullable = true)\n",
            " |-- dayofcrime: date (nullable = true)\n",
            "\n"
          ],
          "name": "stdout"
        }
      ]
    },
    {
      "cell_type": "code",
      "metadata": {
        "id": "JI9onAy8UK43",
        "colab_type": "code",
        "colab": {
          "base_uri": "https://localhost:8080/",
          "height": 118
        },
        "outputId": "491c7190-e340-41ff-b3b8-fa22fd081d26"
      },
      "source": [
        "crime_new.select(max(col('dayofcrime'))).show()"
      ],
      "execution_count": null,
      "outputs": [
        {
          "output_type": "stream",
          "text": [
            "+---------------+\n",
            "|max(dayofcrime)|\n",
            "+---------------+\n",
            "|     2017-07-13|\n",
            "+---------------+\n",
            "\n"
          ],
          "name": "stdout"
        }
      ]
    },
    {
      "cell_type": "code",
      "metadata": {
        "id": "n5nqn1tByVem",
        "colab_type": "code",
        "colab": {
          "base_uri": "https://localhost:8080/",
          "height": 202
        },
        "outputId": "931545c7-13a8-4fd6-f8b3-52980e751227"
      },
      "source": [
        "help(date_add)"
      ],
      "execution_count": null,
      "outputs": [
        {
          "output_type": "stream",
          "text": [
            "Help on function date_add in module pyspark.sql.functions:\n",
            "\n",
            "date_add(start, days)\n",
            "    Returns the date that is `days` days after `start`\n",
            "    \n",
            "    >>> df = spark.createDataFrame([('2015-04-08',)], ['dt'])\n",
            "    >>> df.select(date_add(df.dt, 1).alias('next_date')).collect()\n",
            "    [Row(next_date=datetime.date(2015, 4, 9))]\n",
            "    \n",
            "    .. versionadded:: 1.5\n",
            "\n"
          ],
          "name": "stdout"
        }
      ]
    },
    {
      "cell_type": "code",
      "metadata": {
        "id": "NqhdQ5wVRHJX",
        "colab_type": "code",
        "colab": {
          "base_uri": "https://localhost:8080/",
          "height": 118
        },
        "outputId": "d21ffeb9-4ea5-40e0-ecd3-1f479e70e442"
      },
      "source": [
        "crime_new.select(date_add(max(col('dayofcrime')),30)).show(5)"
      ],
      "execution_count": null,
      "outputs": [
        {
          "output_type": "stream",
          "text": [
            "+-----------------------------+\n",
            "|date_add(max(dayofcrime), 30)|\n",
            "+-----------------------------+\n",
            "|                   2017-08-12|\n",
            "+-----------------------------+\n",
            "\n"
          ],
          "name": "stdout"
        }
      ]
    },
    {
      "cell_type": "markdown",
      "metadata": {
        "id": "Vitnxy0IUmoB",
        "colab_type": "text"
      },
      "source": [
        "## Create Dataframe"
      ]
    },
    {
      "cell_type": "code",
      "metadata": {
        "id": "J-OiJUL-UGnP",
        "colab_type": "code",
        "colab": {
          "base_uri": "https://localhost:8080/",
          "height": 134
        },
        "outputId": "b303b60c-bca4-47d2-8794-c8f8fd7d9172"
      },
      "source": [
        "data = [\n",
        "    ('1990-05-03', 29, True),\n",
        "    ('1994-09-23', 25, False)\n",
        "]\n",
        "dftest = spark.createDataFrame(data, ['dob', 'age', 'is_fan'])\n",
        "dftest.show()"
      ],
      "execution_count": null,
      "outputs": [
        {
          "output_type": "stream",
          "text": [
            "+----------+---+------+\n",
            "|       dob|age|is_fan|\n",
            "+----------+---+------+\n",
            "|1990-05-03| 29|  true|\n",
            "|1994-09-23| 25| false|\n",
            "+----------+---+------+\n",
            "\n"
          ],
          "name": "stdout"
        }
      ]
    },
    {
      "cell_type": "code",
      "metadata": {
        "id": "_Rn-omHQVzZg",
        "colab_type": "code",
        "colab": {
          "base_uri": "https://localhost:8080/",
          "height": 134
        },
        "outputId": "bc816dcf-487e-4f0e-93a6-744f3c7f8e4c"
      },
      "source": [
        "import pyspark.sql.types as st\n",
        "data = [\n",
        "    ('03/May/1990', 30, True),\n",
        "    ('23/Sep/1994', 25, False)\n",
        "]\n",
        "\n",
        "user_schema = st.StructType([\n",
        "    st.StructField('dob', st.StringType(), True),\n",
        "    st.StructField('age', st.IntegerType(), True),\n",
        "    st.StructField('is_mature', st.BooleanType(), True)\n",
        "])\n",
        "\n",
        "user_df = spark.createDataFrame(data, user_schema)\n",
        "user_df.show()"
      ],
      "execution_count": null,
      "outputs": [
        {
          "output_type": "stream",
          "text": [
            "+-----------+---+---------+\n",
            "|        dob|age|is_mature|\n",
            "+-----------+---+---------+\n",
            "|03/May/1990| 30|     true|\n",
            "|23/Sep/1994| 25|    false|\n",
            "+-----------+---+---------+\n",
            "\n"
          ],
          "name": "stdout"
        }
      ]
    },
    {
      "cell_type": "code",
      "metadata": {
        "id": "-5DcKH1sZXIE",
        "colab_type": "code",
        "colab": {
          "base_uri": "https://localhost:8080/",
          "height": 101
        },
        "outputId": "84833b94-44e7-4c4b-d8a7-2c419513a9e4"
      },
      "source": [
        "user_df.printSchema()"
      ],
      "execution_count": null,
      "outputs": [
        {
          "output_type": "stream",
          "text": [
            "root\n",
            " |-- dob: string (nullable = true)\n",
            " |-- age: integer (nullable = true)\n",
            " |-- is_mature: boolean (nullable = true)\n",
            "\n"
          ],
          "name": "stdout"
        }
      ]
    },
    {
      "cell_type": "code",
      "metadata": {
        "id": "_ghvosLfasog",
        "colab_type": "code",
        "colab": {
          "base_uri": "https://localhost:8080/",
          "height": 134
        },
        "outputId": "4de63939-cc0d-4e24-d007-f97b4de3991a"
      },
      "source": [
        "user_df.select(to_date(col('dob'),'dd/MMM/yyyy')).show()"
      ],
      "execution_count": null,
      "outputs": [
        {
          "output_type": "stream",
          "text": [
            "+-----------------------------+\n",
            "|to_date(`dob`, 'dd/MMM/yyyy')|\n",
            "+-----------------------------+\n",
            "|                   1990-05-03|\n",
            "|                   1994-09-23|\n",
            "+-----------------------------+\n",
            "\n"
          ],
          "name": "stdout"
        }
      ]
    },
    {
      "cell_type": "code",
      "metadata": {
        "id": "2-PlZGNubDU4",
        "colab_type": "code",
        "colab": {
          "base_uri": "https://localhost:8080/",
          "height": 222
        },
        "outputId": "fb825e12-0d2f-4ec0-eb37-1fa5a2ca1bd6"
      },
      "source": [
        "crime_new.show(5)"
      ],
      "execution_count": null,
      "outputs": [
        {
          "output_type": "stream",
          "text": [
            "+-----------+----+-----+---+----+------+----------------+-------------+--------+----------+-----------+------------+----------+\n",
            "|       TYPE|YEAR|MONTH|DAY|HOUR|MINUTE|   HUNDRED_BLOCK|NEIGHBOURHOOD|       X|         Y|   Latitude|   Longitude|dayofcrime|\n",
            "+-----------+----+-----+---+----+------+----------------+-------------+--------+----------+-----------+------------+----------+\n",
            "|Other Theft|2003|    5| 12|  16|    15|9XX TERMINAL AVE|   Strathcona|493906.5|5457452.47|49.26980201|-123.0837633|2003-05-12|\n",
            "|Other Theft|2003|    5|  7|  15|    20|9XX TERMINAL AVE|   Strathcona|493906.5|5457452.47|49.26980201|-123.0837633|2003-05-07|\n",
            "|Other Theft|2003|    4| 23|  16|    40|9XX TERMINAL AVE|   Strathcona|493906.5|5457452.47|49.26980201|-123.0837633|2003-04-23|\n",
            "|Other Theft|2003|    4| 20|  11|    15|9XX TERMINAL AVE|   Strathcona|493906.5|5457452.47|49.26980201|-123.0837633|2003-04-20|\n",
            "|Other Theft|2003|    4| 12|  17|    45|9XX TERMINAL AVE|   Strathcona|493906.5|5457452.47|49.26980201|-123.0837633|2003-04-12|\n",
            "+-----------+----+-----+---+----+------+----------------+-------------+--------+----------+-----------+------------+----------+\n",
            "only showing top 5 rows\n",
            "\n"
          ],
          "name": "stdout"
        }
      ]
    },
    {
      "cell_type": "code",
      "metadata": {
        "id": "88GfKIt0bgio",
        "colab_type": "code",
        "colab": {
          "base_uri": "https://localhost:8080/",
          "height": 474
        },
        "outputId": "da8ab10b-b4e5-45f1-dc4d-611cc7f4f676"
      },
      "source": [
        "crime_new.filter(col('YEAR') == lit(2017)).show()"
      ],
      "execution_count": null,
      "outputs": [
        {
          "output_type": "stream",
          "text": [
            "+--------------------+----+-----+---+----+------+--------------------+--------------------+---------+----------+-----------+------------+----------+\n",
            "|                TYPE|YEAR|MONTH|DAY|HOUR|MINUTE|       HUNDRED_BLOCK|       NEIGHBOURHOOD|        X|         Y|   Latitude|   Longitude|dayofcrime|\n",
            "+--------------------+----+-----+---+----+------+--------------------+--------------------+---------+----------+-----------+------------+----------+\n",
            "|  Theft from Vehicle|2017|    5|  3|   9|    33|     13XX ALBERNI ST|            West End|490724.22|5459449.41|49.28772481|-123.1275542|2017-05-03|\n",
            "|Offence Against a...|2017|    4|  4|null|  null|OFFSET TO PROTECT...|                null|        0|         0|          0|           0|2017-04-04|\n",
            "|Offence Against a...|2017|    3| 27|null|  null|OFFSET TO PROTECT...|                null|        0|         0|          0|           0|2017-03-27|\n",
            "|  Theft from Vehicle|2017|    3| 26|   4|    47|        35XX ETON ST|    Hastings-Sunrise|497991.27|5459436.62|49.28767685|-123.0276227|2017-03-26|\n",
            "|    Theft of Bicycle|2017|    6|  3|  12|    30|        11XX HOWE ST|Central Business ...|490823.35|5458428.55|49.27854351|-123.1261677|2017-06-03|\n",
            "|  Theft from Vehicle|2017|    3| 25|  19|     0|     8XX HAMILTON ST|Central Business ...|491487.85|5458385.78| 49.2781684|-123.1170307|2017-03-25|\n",
            "|Vehicle Collision...|2017|    3| 23|   8|    25|E 12TH AVE / CLAR...|      Mount Pleasant|   494355|   5456321|49.25962852|-123.0775821|2017-03-23|\n",
            "|Vehicle Collision...|2017|    4| 17|   9|    24|E 12TH AVE / CLAR...|      Mount Pleasant|   494355|   5456321|49.25962852|-123.0775821|2017-04-17|\n",
            "|  Theft from Vehicle|2017|    6| 21|   0|     0|      8XX E 38TH AVE|Kensington-Cedar ...|493617.57|5453653.09|49.23562284|-123.0876745|2017-06-21|\n",
            "|    Theft of Bicycle|2017|    6| 30|  14|    19|      8XX E 14TH AVE|      Mount Pleasant|493748.56|5456122.59|49.25783789|-123.0859136|2017-06-30|\n",
            "|Offence Against a...|2017|    3| 21|null|  null|OFFSET TO PROTECT...|                null|        0|         0|          0|           0|2017-03-21|\n",
            "|  Theft from Vehicle|2017|    3| 25|  18|     0|        35XX ETON ST|    Hastings-Sunrise| 498032.8|5459445.62|49.28775795|-123.0270516|2017-03-25|\n",
            "|  Theft from Vehicle|2017|    4| 19|  17|     0|     11XX W 11TH AVE|            Fairview|490547.41|5456537.83|49.26153196|-123.1299168|2017-04-19|\n",
            "|  Theft from Vehicle|2017|    4|  4|   7|     0|     8XX HAMILTON ST|Central Business ...|491476.97|5458374.53|49.27806706|-123.1171801|2017-04-04|\n",
            "|Offence Against a...|2017|    6|  3|null|  null|OFFSET TO PROTECT...|                null|        0|         0|          0|           0|2017-06-03|\n",
            "|Offence Against a...|2017|    1|  8|null|  null|OFFSET TO PROTECT...|                null|        0|         0|          0|           0|2017-01-08|\n",
            "|Break and Enter R...|2017|    7|  2|   0|     8|     31XX E 21ST AVE| Renfrew-Collingwood|   497202|5455409.39|49.25144804| -123.038448|2017-07-02|\n",
            "|Offence Against a...|2017|    1|  8|null|  null|OFFSET TO PROTECT...|                null|        0|         0|          0|           0|2017-01-08|\n",
            "|Offence Against a...|2017|    4| 25|null|  null|OFFSET TO PROTECT...|                null|        0|         0|          0|           0|2017-04-25|\n",
            "|    Theft of Bicycle|2017|    5| 31|  18|    45|      23XX W 1ST AVE|           Kitsilano|488396.43|5457578.22|49.27085341|  -123.15951|2017-05-31|\n",
            "+--------------------+----+-----+---+----+------+--------------------+--------------------+---------+----------+-----------+------------+----------+\n",
            "only showing top 20 rows\n",
            "\n"
          ],
          "name": "stdout"
        }
      ]
    },
    {
      "cell_type": "markdown",
      "metadata": {
        "id": "5PHJMOdDc3dx",
        "colab_type": "text"
      },
      "source": [
        "# JOINS"
      ]
    },
    {
      "cell_type": "code",
      "metadata": {
        "id": "NMl_43ordA5q",
        "colab_type": "code",
        "colab": {
          "base_uri": "https://localhost:8080/",
          "height": 319
        },
        "outputId": "16ab1d9e-58f9-4f5f-d87b-fe200b21848c"
      },
      "source": [
        "valuesA = [('Pirate',1),('Monkey',2),('Ninja',3),('Spaghetti',4)]\n",
        "TableA = spark.createDataFrame(valuesA,['name','id'])\n",
        " \n",
        "valuesB = [('Rutabaga',1),('Pirate',2),('Ninja',3),('Darth Vader',4)]\n",
        "TableB = spark.createDataFrame(valuesB,['name','id'])\n",
        " \n",
        "TableA.show()\n",
        "TableB.show()"
      ],
      "execution_count": null,
      "outputs": [
        {
          "output_type": "stream",
          "text": [
            "+---------+---+\n",
            "|     name| id|\n",
            "+---------+---+\n",
            "|   Pirate|  1|\n",
            "|   Monkey|  2|\n",
            "|    Ninja|  3|\n",
            "|Spaghetti|  4|\n",
            "+---------+---+\n",
            "\n",
            "+-----------+---+\n",
            "|       name| id|\n",
            "+-----------+---+\n",
            "|   Rutabaga|  1|\n",
            "|     Pirate|  2|\n",
            "|      Ninja|  3|\n",
            "|Darth Vader|  4|\n",
            "+-----------+---+\n",
            "\n"
          ],
          "name": "stdout"
        }
      ]
    },
    {
      "cell_type": "code",
      "metadata": {
        "id": "XC07r0kme54S",
        "colab_type": "code",
        "colab": {}
      },
      "source": [
        "ta = TableA.alias('ta')\n",
        "tb = TableB.alias('tb')"
      ],
      "execution_count": null,
      "outputs": []
    },
    {
      "cell_type": "markdown",
      "metadata": {
        "id": "t0mapFqGeUk9",
        "colab_type": "text"
      },
      "source": [
        "## INNER JOIN"
      ]
    },
    {
      "cell_type": "code",
      "metadata": {
        "id": "FalrXh-7drVY",
        "colab_type": "code",
        "colab": {
          "base_uri": "https://localhost:8080/",
          "height": 134
        },
        "outputId": "98a0eb3a-d967-4f45-bfcb-5fb5d962434d"
      },
      "source": [
        "inner_join = ta.join(tb, ta.name == tb.name)\n",
        "inner_join.show()"
      ],
      "execution_count": null,
      "outputs": [
        {
          "output_type": "stream",
          "text": [
            "+------+---+------+---+\n",
            "|  name| id|  name| id|\n",
            "+------+---+------+---+\n",
            "| Ninja|  3| Ninja|  3|\n",
            "|Pirate|  1|Pirate|  2|\n",
            "+------+---+------+---+\n",
            "\n"
          ],
          "name": "stdout"
        }
      ]
    },
    {
      "cell_type": "markdown",
      "metadata": {
        "id": "eEHvGbf3fFqB",
        "colab_type": "text"
      },
      "source": [
        "## LEFT JOIN"
      ]
    },
    {
      "cell_type": "code",
      "metadata": {
        "id": "5brrJkk4ec_F",
        "colab_type": "code",
        "colab": {
          "base_uri": "https://localhost:8080/",
          "height": 168
        },
        "outputId": "28af432e-ada6-4537-90f2-076f76b60290"
      },
      "source": [
        "left_join = ta.join(tb, ta.name == tb.name,how='left') # Could also use 'left_outer'\n",
        "left_join.show()"
      ],
      "execution_count": null,
      "outputs": [
        {
          "output_type": "stream",
          "text": [
            "+---------+---+------+----+\n",
            "|     name| id|  name|  id|\n",
            "+---------+---+------+----+\n",
            "|Spaghetti|  4|  null|null|\n",
            "|    Ninja|  3| Ninja|   3|\n",
            "|   Pirate|  1|Pirate|   2|\n",
            "|   Monkey|  2|  null|null|\n",
            "+---------+---+------+----+\n",
            "\n"
          ],
          "name": "stdout"
        }
      ]
    },
    {
      "cell_type": "markdown",
      "metadata": {
        "id": "HtRQcjM0fz5L",
        "colab_type": "text"
      },
      "source": [
        "## LEFT JOIN WITH NULL"
      ]
    },
    {
      "cell_type": "code",
      "metadata": {
        "id": "Q1T9SSvjfCpg",
        "colab_type": "code",
        "colab": {
          "base_uri": "https://localhost:8080/",
          "height": 134
        },
        "outputId": "756d82ae-696f-46d4-dd0e-0466e3d83cbf"
      },
      "source": [
        "left_join = ta.join(tb, ta.name == tb.name,how='left') # Could also use 'left_outer'\n",
        "left_join.filter(col('tb.name').isNull()).show()"
      ],
      "execution_count": null,
      "outputs": [
        {
          "output_type": "stream",
          "text": [
            "+---------+---+----+----+\n",
            "|     name| id|name|  id|\n",
            "+---------+---+----+----+\n",
            "|Spaghetti|  4|null|null|\n",
            "|   Monkey|  2|null|null|\n",
            "+---------+---+----+----+\n",
            "\n"
          ],
          "name": "stdout"
        }
      ]
    },
    {
      "cell_type": "markdown",
      "metadata": {
        "id": "FLfe4BK8fv35",
        "colab_type": "text"
      },
      "source": [
        "## RIGHT JOIN"
      ]
    },
    {
      "cell_type": "code",
      "metadata": {
        "id": "DGGu65iYfezj",
        "colab_type": "code",
        "colab": {
          "base_uri": "https://localhost:8080/",
          "height": 168
        },
        "outputId": "4fe408c7-111e-4948-f6c4-7fb266364b9a"
      },
      "source": [
        "right_join = ta.join(tb, ta.name == tb.name,how='right') # Could also use 'right_outer'\n",
        "right_join.show()\n"
      ],
      "execution_count": null,
      "outputs": [
        {
          "output_type": "stream",
          "text": [
            "+------+----+-----------+---+\n",
            "|  name|  id|       name| id|\n",
            "+------+----+-----------+---+\n",
            "|  null|null|   Rutabaga|  1|\n",
            "| Ninja|   3|      Ninja|  3|\n",
            "|Pirate|   1|     Pirate|  2|\n",
            "|  null|null|Darth Vader|  4|\n",
            "+------+----+-----------+---+\n",
            "\n"
          ],
          "name": "stdout"
        }
      ]
    },
    {
      "cell_type": "markdown",
      "metadata": {
        "id": "Q9aXl1Q4frO0",
        "colab_type": "text"
      },
      "source": [
        "## FULL OUTER JOIN"
      ]
    },
    {
      "cell_type": "code",
      "metadata": {
        "id": "chRE2M-2fhxL",
        "colab_type": "code",
        "colab": {
          "base_uri": "https://localhost:8080/",
          "height": 202
        },
        "outputId": "f8750a78-8f47-4b2e-9a63-29190cd003b3"
      },
      "source": [
        "full_outer_join = ta.join(tb, ta.name == tb.name,how='full') # Could also use 'full_outer'\n",
        "full_outer_join.show()"
      ],
      "execution_count": null,
      "outputs": [
        {
          "output_type": "stream",
          "text": [
            "+---------+----+-----------+----+\n",
            "|     name|  id|       name|  id|\n",
            "+---------+----+-----------+----+\n",
            "|     null|null|   Rutabaga|   1|\n",
            "|Spaghetti|   4|       null|null|\n",
            "|    Ninja|   3|      Ninja|   3|\n",
            "|   Pirate|   1|     Pirate|   2|\n",
            "|   Monkey|   2|       null|null|\n",
            "|     null|null|Darth Vader|   4|\n",
            "+---------+----+-----------+----+\n",
            "\n"
          ],
          "name": "stdout"
        }
      ]
    },
    {
      "cell_type": "code",
      "metadata": {
        "id": "ENM7jyPdflX5",
        "colab_type": "code",
        "colab": {
          "base_uri": "https://localhost:8080/",
          "height": 168
        },
        "outputId": "ecdb738d-83a5-4e51-d572-51ed07e22379"
      },
      "source": [
        "from pyspark.sql.functions import col\n",
        "full_outer_join.filter(col('tb.name').isNull() | col('ta.name').isNull()).show()\n"
      ],
      "execution_count": null,
      "outputs": [
        {
          "output_type": "stream",
          "text": [
            "+---------+----+-----------+----+\n",
            "|     name|  id|       name|  id|\n",
            "+---------+----+-----------+----+\n",
            "|     null|null|   Rutabaga|   1|\n",
            "|Spaghetti|   4|       null|null|\n",
            "|   Monkey|   2|       null|null|\n",
            "|     null|null|Darth Vader|   4|\n",
            "+---------+----+-----------+----+\n",
            "\n"
          ],
          "name": "stdout"
        }
      ]
    },
    {
      "cell_type": "code",
      "metadata": {
        "id": "dHMp2TSC8VGG",
        "colab_type": "code",
        "colab": {}
      },
      "source": [
        ""
      ],
      "execution_count": null,
      "outputs": []
    }
  ]
}