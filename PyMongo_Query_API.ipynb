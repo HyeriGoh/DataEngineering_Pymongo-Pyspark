{
 "cells": [
  {
   "cell_type": "code",
   "execution_count": 1,
   "metadata": {},
   "outputs": [
    {
     "ename": "ModuleNotFoundError",
     "evalue": "No module named 'APIweatherkey'",
     "output_type": "error",
     "traceback": [
      "\u001b[1;31m---------------------------------------------------------------------------\u001b[0m",
      "\u001b[1;31mModuleNotFoundError\u001b[0m                       Traceback (most recent call last)",
      "\u001b[1;32m<ipython-input-1-b942b02e22e3>\u001b[0m in \u001b[0;36m<module>\u001b[1;34m\u001b[0m\n\u001b[0;32m      5\u001b[0m \u001b[1;32mimport\u001b[0m \u001b[0mpandas\u001b[0m \u001b[1;32mas\u001b[0m \u001b[0mpd\u001b[0m\u001b[1;33m\u001b[0m\u001b[1;33m\u001b[0m\u001b[0m\n\u001b[0;32m      6\u001b[0m \u001b[1;32mfrom\u001b[0m \u001b[0mpymongo\u001b[0m \u001b[1;32mimport\u001b[0m \u001b[0mMongoClient\u001b[0m\u001b[1;33m\u001b[0m\u001b[1;33m\u001b[0m\u001b[0m\n\u001b[1;32m----> 7\u001b[1;33m \u001b[1;32mfrom\u001b[0m \u001b[0mAPIweatherkey\u001b[0m \u001b[1;32mimport\u001b[0m \u001b[0mkey\u001b[0m\u001b[1;33m\u001b[0m\u001b[1;33m\u001b[0m\u001b[0m\n\u001b[0m\u001b[0;32m      8\u001b[0m \u001b[1;32mimport\u001b[0m \u001b[0mnumpy\u001b[0m \u001b[1;32mas\u001b[0m \u001b[0mnp\u001b[0m\u001b[1;33m\u001b[0m\u001b[1;33m\u001b[0m\u001b[0m\n\u001b[0;32m      9\u001b[0m \u001b[1;31m#key = 'c1a5f0a0817c9b0d547ef47d4873d62c'\u001b[0m\u001b[1;33m\u001b[0m\u001b[1;33m\u001b[0m\u001b[1;33m\u001b[0m\u001b[0m\n",
      "\u001b[1;31mModuleNotFoundError\u001b[0m: No module named 'APIweatherkey'"
     ]
    }
   ],
   "source": [
    "import requests,pprint,json,datetime,time\n",
    "from gzip import decompress\n",
    "from json import loads\n",
    "from requests import get\n",
    "import pandas as pd\n",
    "from pymongo import MongoClient\n",
    "from APIweatherkey import key \n",
    "import numpy as np\n",
    "#key = 'c1a5f0a0817c9b0d547ef47d4873d62c'\n",
    "# Sign up for free API key at https://openweathermap.org/appid"
   ]
  },
  {
   "cell_type": "markdown",
   "metadata": {},
   "source": [
    "# Acquring data from an API"
   ]
  },
  {
   "cell_type": "code",
   "execution_count": 2,
   "metadata": {},
   "outputs": [
    {
     "name": "stdout",
     "output_type": "stream",
     "text": [
      "200\n"
     ]
    }
   ],
   "source": [
    "city='vancouver'\n",
    "country='ca'\n",
    "\n",
    "\n",
    "requestString='https://api.openweathermap.org/data/2.5/weather?q=%s,%s&APPID=%s' % (city,country,key)\n",
    "\n",
    "\n",
    "res=requests.get(requestString)\n",
    "print(res.status_code)"
   ]
  },
  {
   "cell_type": "code",
   "execution_count": 5,
   "metadata": {},
   "outputs": [
    {
     "data": {
      "text/plain": [
       "requests.models.Response"
      ]
     },
     "execution_count": 5,
     "metadata": {},
     "output_type": "execute_result"
    }
   ],
   "source": [
    "type(res)"
   ]
  },
  {
   "cell_type": "code",
   "execution_count": 7,
   "metadata": {},
   "outputs": [],
   "source": [
    "mydict = res.json()"
   ]
  },
  {
   "cell_type": "code",
   "execution_count": 14,
   "metadata": {},
   "outputs": [
    {
     "data": {
      "text/plain": [
       "'Clouds'"
      ]
     },
     "execution_count": 14,
     "metadata": {},
     "output_type": "execute_result"
    }
   ],
   "source": [
    "mydict['weather'][0]['main']"
   ]
  },
  {
   "cell_type": "code",
   "execution_count": 132,
   "metadata": {},
   "outputs": [
    {
     "data": {
      "text/plain": [
       "{'coord': {'lon': -124.26, 'lat': 54.46},\n",
       " 'weather': [{'id': 804,\n",
       "   'main': 'Clouds',\n",
       "   'description': 'overcast clouds',\n",
       "   'icon': '04n'}],\n",
       " 'base': 'stations',\n",
       " 'main': {'temp': 282.64,\n",
       "  'feels_like': 279.83,\n",
       "  'temp_min': 282.64,\n",
       "  'temp_max': 282.64,\n",
       "  'pressure': 1015,\n",
       "  'humidity': 60,\n",
       "  'sea_level': 1015,\n",
       "  'grnd_level': 930},\n",
       " 'wind': {'speed': 1.65, 'deg': 255},\n",
       " 'clouds': {'all': 97},\n",
       " 'dt': 1593075303,\n",
       " 'sys': {'country': 'CA', 'sunrise': 1593085378, 'sunset': 1593147391},\n",
       " 'timezone': -25200,\n",
       " 'id': 5881688,\n",
       " 'name': 'Fort St. James',\n",
       " 'cod': 200}"
      ]
     },
     "execution_count": 132,
     "metadata": {},
     "output_type": "execute_result"
    }
   ],
   "source": [
    "mydict"
   ]
  },
  {
   "cell_type": "code",
   "execution_count": 2,
   "metadata": {},
   "outputs": [
    {
     "data": {
      "text/html": [
       "<div>\n",
       "<style scoped>\n",
       "    .dataframe tbody tr th:only-of-type {\n",
       "        vertical-align: middle;\n",
       "    }\n",
       "\n",
       "    .dataframe tbody tr th {\n",
       "        vertical-align: top;\n",
       "    }\n",
       "\n",
       "    .dataframe thead th {\n",
       "        text-align: right;\n",
       "    }\n",
       "</style>\n",
       "<table border=\"1\" class=\"dataframe\">\n",
       "  <thead>\n",
       "    <tr style=\"text-align: right;\">\n",
       "      <th></th>\n",
       "      <th>id</th>\n",
       "      <th>name</th>\n",
       "      <th>state</th>\n",
       "      <th>country</th>\n",
       "      <th>coord</th>\n",
       "    </tr>\n",
       "  </thead>\n",
       "  <tbody>\n",
       "    <tr>\n",
       "      <th>0</th>\n",
       "      <td>833</td>\n",
       "      <td>Ḩeşār-e Sefīd</td>\n",
       "      <td></td>\n",
       "      <td>IR</td>\n",
       "      <td>{'lon': 47.159401, 'lat': 34.330502}</td>\n",
       "    </tr>\n",
       "    <tr>\n",
       "      <th>1</th>\n",
       "      <td>2960</td>\n",
       "      <td>‘Ayn Ḩalāqīm</td>\n",
       "      <td></td>\n",
       "      <td>SY</td>\n",
       "      <td>{'lon': 36.321911, 'lat': 34.940079}</td>\n",
       "    </tr>\n",
       "    <tr>\n",
       "      <th>2</th>\n",
       "      <td>3245</td>\n",
       "      <td>Taglag</td>\n",
       "      <td></td>\n",
       "      <td>IR</td>\n",
       "      <td>{'lon': 44.98333, 'lat': 38.450001}</td>\n",
       "    </tr>\n",
       "    <tr>\n",
       "      <th>3</th>\n",
       "      <td>3530</td>\n",
       "      <td>Qabāghlū</td>\n",
       "      <td></td>\n",
       "      <td>IR</td>\n",
       "      <td>{'lon': 46.168499, 'lat': 36.173302}</td>\n",
       "    </tr>\n",
       "    <tr>\n",
       "      <th>4</th>\n",
       "      <td>5174</td>\n",
       "      <td>‘Arīqah</td>\n",
       "      <td></td>\n",
       "      <td>SY</td>\n",
       "      <td>{'lon': 36.48336, 'lat': 32.889809}</td>\n",
       "    </tr>\n",
       "    <tr>\n",
       "      <th>...</th>\n",
       "      <td>...</td>\n",
       "      <td>...</td>\n",
       "      <td>...</td>\n",
       "      <td>...</td>\n",
       "      <td>...</td>\n",
       "    </tr>\n",
       "    <tr>\n",
       "      <th>209574</th>\n",
       "      <td>8277210</td>\n",
       "      <td>Beldibi</td>\n",
       "      <td></td>\n",
       "      <td>TR</td>\n",
       "      <td>{'lon': 30.707411, 'lat': 40.592731}</td>\n",
       "    </tr>\n",
       "    <tr>\n",
       "      <th>209575</th>\n",
       "      <td>10722858</td>\n",
       "      <td>Forsytheganj</td>\n",
       "      <td></td>\n",
       "      <td>BY</td>\n",
       "      <td>{'lon': 29.733333000000002, 'lat': 52.633333}</td>\n",
       "    </tr>\n",
       "    <tr>\n",
       "      <th>209576</th>\n",
       "      <td>71296900</td>\n",
       "      <td>Голубинка</td>\n",
       "      <td></td>\n",
       "      <td>UA</td>\n",
       "      <td>{'lon': 33.92, 'lat': 44.59}</td>\n",
       "    </tr>\n",
       "    <tr>\n",
       "      <th>209577</th>\n",
       "      <td>102908597</td>\n",
       "      <td>Gerton</td>\n",
       "      <td></td>\n",
       "      <td>US</td>\n",
       "      <td>{'lon': -82.348056, 'lat': 35.479167}</td>\n",
       "    </tr>\n",
       "    <tr>\n",
       "      <th>209578</th>\n",
       "      <td>536203</td>\n",
       "      <td>Saint Petersburg</td>\n",
       "      <td></td>\n",
       "      <td>RU</td>\n",
       "      <td>{'lon': 30.25, 'lat': 59.916668}</td>\n",
       "    </tr>\n",
       "  </tbody>\n",
       "</table>\n",
       "<p>209579 rows × 5 columns</p>\n",
       "</div>"
      ],
      "text/plain": [
       "               id              name state country  \\\n",
       "0             833     Ḩeşār-e Sefīd            IR   \n",
       "1            2960      ‘Ayn Ḩalāqīm            SY   \n",
       "2            3245            Taglag            IR   \n",
       "3            3530          Qabāghlū            IR   \n",
       "4            5174           ‘Arīqah            SY   \n",
       "...           ...               ...   ...     ...   \n",
       "209574    8277210           Beldibi            TR   \n",
       "209575   10722858      Forsytheganj            BY   \n",
       "209576   71296900         Голубинка            UA   \n",
       "209577  102908597            Gerton            US   \n",
       "209578     536203  Saint Petersburg            RU   \n",
       "\n",
       "                                                coord  \n",
       "0                {'lon': 47.159401, 'lat': 34.330502}  \n",
       "1                {'lon': 36.321911, 'lat': 34.940079}  \n",
       "2                 {'lon': 44.98333, 'lat': 38.450001}  \n",
       "3                {'lon': 46.168499, 'lat': 36.173302}  \n",
       "4                 {'lon': 36.48336, 'lat': 32.889809}  \n",
       "...                                               ...  \n",
       "209574           {'lon': 30.707411, 'lat': 40.592731}  \n",
       "209575  {'lon': 29.733333000000002, 'lat': 52.633333}  \n",
       "209576                   {'lon': 33.92, 'lat': 44.59}  \n",
       "209577          {'lon': -82.348056, 'lat': 35.479167}  \n",
       "209578               {'lon': 30.25, 'lat': 59.916668}  \n",
       "\n",
       "[209579 rows x 5 columns]"
      ]
     },
     "execution_count": 2,
     "metadata": {},
     "output_type": "execute_result"
    }
   ],
   "source": [
    "df = pd.read_json(decompress(get(\"http://bulk.openweathermap.org/sample/city.list.json.gz\").content))\n",
    "df"
   ]
  },
  {
   "cell_type": "code",
   "execution_count": 78,
   "metadata": {},
   "outputs": [
    {
     "data": {
      "text/html": [
       "<div>\n",
       "<style scoped>\n",
       "    .dataframe tbody tr th:only-of-type {\n",
       "        vertical-align: middle;\n",
       "    }\n",
       "\n",
       "    .dataframe tbody tr th {\n",
       "        vertical-align: top;\n",
       "    }\n",
       "\n",
       "    .dataframe thead th {\n",
       "        text-align: right;\n",
       "    }\n",
       "</style>\n",
       "<table border=\"1\" class=\"dataframe\">\n",
       "  <thead>\n",
       "    <tr style=\"text-align: right;\">\n",
       "      <th></th>\n",
       "      <th>id</th>\n",
       "      <th>name</th>\n",
       "      <th>state</th>\n",
       "      <th>country</th>\n",
       "      <th>coord</th>\n",
       "    </tr>\n",
       "  </thead>\n",
       "  <tbody>\n",
       "    <tr>\n",
       "      <th>53912</th>\n",
       "      <td>2178377</td>\n",
       "      <td>Abbotsford</td>\n",
       "      <td></td>\n",
       "      <td>AU</td>\n",
       "      <td>{'lon': 151.133331, 'lat': -33.849998}</td>\n",
       "    </tr>\n",
       "    <tr>\n",
       "      <th>157108</th>\n",
       "      <td>5243517</td>\n",
       "      <td>Abbotsford</td>\n",
       "      <td>WI</td>\n",
       "      <td>US</td>\n",
       "      <td>{'lon': -90.315971, 'lat': 44.946362}</td>\n",
       "    </tr>\n",
       "    <tr>\n",
       "      <th>161744</th>\n",
       "      <td>5881791</td>\n",
       "      <td>Abbotsford</td>\n",
       "      <td></td>\n",
       "      <td>CA</td>\n",
       "      <td>{'lon': -122.252571, 'lat': 49.05798}</td>\n",
       "    </tr>\n",
       "    <tr>\n",
       "      <th>161745</th>\n",
       "      <td>5881792</td>\n",
       "      <td>Abbotsford</td>\n",
       "      <td></td>\n",
       "      <td>CA</td>\n",
       "      <td>{'lon': -122.285873, 'lat': 49.049679}</td>\n",
       "    </tr>\n",
       "  </tbody>\n",
       "</table>\n",
       "</div>"
      ],
      "text/plain": [
       "             id        name state country  \\\n",
       "53912   2178377  Abbotsford            AU   \n",
       "157108  5243517  Abbotsford    WI      US   \n",
       "161744  5881791  Abbotsford            CA   \n",
       "161745  5881792  Abbotsford            CA   \n",
       "\n",
       "                                         coord  \n",
       "53912   {'lon': 151.133331, 'lat': -33.849998}  \n",
       "157108   {'lon': -90.315971, 'lat': 44.946362}  \n",
       "161744   {'lon': -122.252571, 'lat': 49.05798}  \n",
       "161745  {'lon': -122.285873, 'lat': 49.049679}  "
      ]
     },
     "execution_count": 78,
     "metadata": {},
     "output_type": "execute_result"
    }
   ],
   "source": [
    "df[df['name']=='Abbotsford']"
   ]
  },
  {
   "cell_type": "code",
   "execution_count": 6,
   "metadata": {},
   "outputs": [],
   "source": [
    "def getData(city,countrycode):\n",
    "    requestString='https://api.openweathermap.org/data/2.5/weather?q=%s,%s&APPID=%s' % (city,countrycode,key)\n",
    "    \n",
    "    res=requests.get(requestString)\n",
    "    \n",
    "    return res"
   ]
  },
  {
   "cell_type": "markdown",
   "metadata": {},
   "source": [
    "### 1. Get hold of all the Canadian cities from the list of the cities."
   ]
  },
  {
   "cell_type": "code",
   "execution_count": 3,
   "metadata": {},
   "outputs": [],
   "source": [
    "canada = df[df['country']=='CA']\n",
    "cities = canada['name'].head(30)"
   ]
  },
  {
   "cell_type": "markdown",
   "metadata": {},
   "source": [
    "### 2. Then using all the data for the Canadian cities, push the values of [cityname, lon, lat, weather_main, weather_description, temp, humidity] into a pymongo database collection."
   ]
  },
  {
   "cell_type": "code",
   "execution_count": 4,
   "metadata": {},
   "outputs": [],
   "source": [
    "City=[]\n",
    "Lon=[]\n",
    "Lat=[]\n",
    "Main=[]\n",
    "Description=[]\n",
    "Temp=[]\n",
    "Humidity=[]\n",
    "index=[]\n",
    "\n",
    "for city in cities:\n",
    "    country='ca'\n",
    "    requestString='https://api.openweathermap.org/data/2.5/weather?q=%s,%s&APPID=%s' % (city,country,key)\n",
    "    res=requests.get(requestString)\n",
    "    mydict = res.json()\n",
    "    \n",
    "    City.append(mydict['name'])    \n",
    "    Lon.append(mydict['coord']['lon'])    \n",
    "    Lat.append(mydict['coord']['lat'])    \n",
    "    Main.append(mydict['weather'][0]['main'])    \n",
    "    Description.append(mydict['weather'][0]['description'])    \n",
    "    Temp.append(mydict['main']['temp'])    \n",
    "    Humidity.append(mydict['main']['humidity'])    \n",
    "    index.append(mydict['id'])   \n",
    "    "
   ]
  },
  {
   "cell_type": "code",
   "execution_count": 5,
   "metadata": {},
   "outputs": [
    {
     "data": {
      "text/html": [
       "<div>\n",
       "<style scoped>\n",
       "    .dataframe tbody tr th:only-of-type {\n",
       "        vertical-align: middle;\n",
       "    }\n",
       "\n",
       "    .dataframe tbody tr th {\n",
       "        vertical-align: top;\n",
       "    }\n",
       "\n",
       "    .dataframe thead th {\n",
       "        text-align: right;\n",
       "    }\n",
       "</style>\n",
       "<table border=\"1\" class=\"dataframe\">\n",
       "  <thead>\n",
       "    <tr style=\"text-align: right;\">\n",
       "      <th></th>\n",
       "      <th>City</th>\n",
       "      <th>Lon</th>\n",
       "      <th>Lat</th>\n",
       "      <th>Main</th>\n",
       "      <th>Description</th>\n",
       "      <th>Temp</th>\n",
       "      <th>Humidity</th>\n",
       "    </tr>\n",
       "  </thead>\n",
       "  <tbody>\n",
       "    <tr>\n",
       "      <th>5881688</th>\n",
       "      <td>Fort St. James</td>\n",
       "      <td>-124.26</td>\n",
       "      <td>54.46</td>\n",
       "      <td>Clouds</td>\n",
       "      <td>overcast clouds</td>\n",
       "      <td>283.62</td>\n",
       "      <td>66</td>\n",
       "    </tr>\n",
       "    <tr>\n",
       "      <th>5881774</th>\n",
       "      <td>Abbey</td>\n",
       "      <td>-108.75</td>\n",
       "      <td>50.73</td>\n",
       "      <td>Clouds</td>\n",
       "      <td>broken clouds</td>\n",
       "      <td>286.48</td>\n",
       "      <td>83</td>\n",
       "    </tr>\n",
       "    <tr>\n",
       "      <th>5881791</th>\n",
       "      <td>Abbotsford</td>\n",
       "      <td>-122.25</td>\n",
       "      <td>49.06</td>\n",
       "      <td>Clouds</td>\n",
       "      <td>scattered clouds</td>\n",
       "      <td>288.34</td>\n",
       "      <td>87</td>\n",
       "    </tr>\n",
       "    <tr>\n",
       "      <th>5881791</th>\n",
       "      <td>Abbotsford</td>\n",
       "      <td>-122.25</td>\n",
       "      <td>49.06</td>\n",
       "      <td>Clouds</td>\n",
       "      <td>scattered clouds</td>\n",
       "      <td>288.34</td>\n",
       "      <td>87</td>\n",
       "    </tr>\n",
       "    <tr>\n",
       "      <th>5881868</th>\n",
       "      <td>Aberdeen</td>\n",
       "      <td>-106.28</td>\n",
       "      <td>52.32</td>\n",
       "      <td>Clouds</td>\n",
       "      <td>scattered clouds</td>\n",
       "      <td>286.90</td>\n",
       "      <td>82</td>\n",
       "    </tr>\n",
       "    <tr>\n",
       "      <th>5881941</th>\n",
       "      <td>Abitibi-Témiscamingue</td>\n",
       "      <td>-77.78</td>\n",
       "      <td>48.10</td>\n",
       "      <td>Clouds</td>\n",
       "      <td>overcast clouds</td>\n",
       "      <td>287.15</td>\n",
       "      <td>87</td>\n",
       "    </tr>\n",
       "    <tr>\n",
       "      <th>5881954</th>\n",
       "      <td>Aboushagan Road</td>\n",
       "      <td>-64.35</td>\n",
       "      <td>45.98</td>\n",
       "      <td>Clouds</td>\n",
       "      <td>scattered clouds</td>\n",
       "      <td>286.80</td>\n",
       "      <td>87</td>\n",
       "    </tr>\n",
       "    <tr>\n",
       "      <th>5882033</th>\n",
       "      <td>Acadia Valley</td>\n",
       "      <td>-110.22</td>\n",
       "      <td>51.15</td>\n",
       "      <td>Clouds</td>\n",
       "      <td>broken clouds</td>\n",
       "      <td>290.93</td>\n",
       "      <td>59</td>\n",
       "    </tr>\n",
       "    <tr>\n",
       "      <th>5882100</th>\n",
       "      <td>Acme</td>\n",
       "      <td>-113.50</td>\n",
       "      <td>51.50</td>\n",
       "      <td>Clouds</td>\n",
       "      <td>overcast clouds</td>\n",
       "      <td>288.93</td>\n",
       "      <td>66</td>\n",
       "    </tr>\n",
       "    <tr>\n",
       "      <th>5882134</th>\n",
       "      <td>Acton</td>\n",
       "      <td>-80.04</td>\n",
       "      <td>43.63</td>\n",
       "      <td>Clouds</td>\n",
       "      <td>scattered clouds</td>\n",
       "      <td>288.01</td>\n",
       "      <td>63</td>\n",
       "    </tr>\n",
       "    <tr>\n",
       "      <th>5882142</th>\n",
       "      <td>Acton Vale</td>\n",
       "      <td>-72.57</td>\n",
       "      <td>45.65</td>\n",
       "      <td>Clear</td>\n",
       "      <td>clear sky</td>\n",
       "      <td>286.78</td>\n",
       "      <td>82</td>\n",
       "    </tr>\n",
       "    <tr>\n",
       "      <th>5882351</th>\n",
       "      <td>Aden</td>\n",
       "      <td>-111.32</td>\n",
       "      <td>49.03</td>\n",
       "      <td>Clouds</td>\n",
       "      <td>broken clouds</td>\n",
       "      <td>290.65</td>\n",
       "      <td>44</td>\n",
       "    </tr>\n",
       "    <tr>\n",
       "      <th>5882375</th>\n",
       "      <td>Admiral</td>\n",
       "      <td>-108.02</td>\n",
       "      <td>49.72</td>\n",
       "      <td>Clear</td>\n",
       "      <td>clear sky</td>\n",
       "      <td>285.15</td>\n",
       "      <td>81</td>\n",
       "    </tr>\n",
       "    <tr>\n",
       "      <th>5882534</th>\n",
       "      <td>Agassiz</td>\n",
       "      <td>-121.77</td>\n",
       "      <td>49.23</td>\n",
       "      <td>Clear</td>\n",
       "      <td>clear sky</td>\n",
       "      <td>286.48</td>\n",
       "      <td>82</td>\n",
       "    </tr>\n",
       "    <tr>\n",
       "      <th>5882599</th>\n",
       "      <td>Agincourt</td>\n",
       "      <td>-79.28</td>\n",
       "      <td>43.78</td>\n",
       "      <td>Clouds</td>\n",
       "      <td>broken clouds</td>\n",
       "      <td>289.86</td>\n",
       "      <td>93</td>\n",
       "    </tr>\n",
       "    <tr>\n",
       "      <th>5882640</th>\n",
       "      <td>Aguanish</td>\n",
       "      <td>-62.08</td>\n",
       "      <td>50.22</td>\n",
       "      <td>Mist</td>\n",
       "      <td>mist</td>\n",
       "      <td>283.15</td>\n",
       "      <td>100</td>\n",
       "    </tr>\n",
       "    <tr>\n",
       "      <th>5882799</th>\n",
       "      <td>Airdrie</td>\n",
       "      <td>-114.04</td>\n",
       "      <td>51.30</td>\n",
       "      <td>Clouds</td>\n",
       "      <td>overcast clouds</td>\n",
       "      <td>288.34</td>\n",
       "      <td>65</td>\n",
       "    </tr>\n",
       "    <tr>\n",
       "      <th>5882873</th>\n",
       "      <td>Ajax</td>\n",
       "      <td>-79.03</td>\n",
       "      <td>43.85</td>\n",
       "      <td>Clouds</td>\n",
       "      <td>scattered clouds</td>\n",
       "      <td>287.17</td>\n",
       "      <td>87</td>\n",
       "    </tr>\n",
       "    <tr>\n",
       "      <th>5882953</th>\n",
       "      <td>Aklavik</td>\n",
       "      <td>-135.01</td>\n",
       "      <td>68.22</td>\n",
       "      <td>Clouds</td>\n",
       "      <td>broken clouds</td>\n",
       "      <td>285.15</td>\n",
       "      <td>54</td>\n",
       "    </tr>\n",
       "    <tr>\n",
       "      <th>5882994</th>\n",
       "      <td>Akulivik</td>\n",
       "      <td>-78.20</td>\n",
       "      <td>60.80</td>\n",
       "      <td>Clear</td>\n",
       "      <td>clear sky</td>\n",
       "      <td>281.28</td>\n",
       "      <td>65</td>\n",
       "    </tr>\n",
       "    <tr>\n",
       "      <th>5883027</th>\n",
       "      <td>Alameda</td>\n",
       "      <td>-102.28</td>\n",
       "      <td>49.27</td>\n",
       "      <td>Clear</td>\n",
       "      <td>clear sky</td>\n",
       "      <td>285.37</td>\n",
       "      <td>94</td>\n",
       "    </tr>\n",
       "    <tr>\n",
       "      <th>5883074</th>\n",
       "      <td>Albanel</td>\n",
       "      <td>-72.45</td>\n",
       "      <td>48.88</td>\n",
       "      <td>Clouds</td>\n",
       "      <td>scattered clouds</td>\n",
       "      <td>289.15</td>\n",
       "      <td>77</td>\n",
       "    </tr>\n",
       "    <tr>\n",
       "      <th>5883078</th>\n",
       "      <td>Albany</td>\n",
       "      <td>-65.05</td>\n",
       "      <td>44.80</td>\n",
       "      <td>Clouds</td>\n",
       "      <td>broken clouds</td>\n",
       "      <td>286.87</td>\n",
       "      <td>93</td>\n",
       "    </tr>\n",
       "    <tr>\n",
       "      <th>5883089</th>\n",
       "      <td>Albatross</td>\n",
       "      <td>-104.67</td>\n",
       "      <td>50.53</td>\n",
       "      <td>Clear</td>\n",
       "      <td>clear sky</td>\n",
       "      <td>284.15</td>\n",
       "      <td>87</td>\n",
       "    </tr>\n",
       "    <tr>\n",
       "      <th>5883093</th>\n",
       "      <td>Alberni</td>\n",
       "      <td>-124.80</td>\n",
       "      <td>49.25</td>\n",
       "      <td>Clouds</td>\n",
       "      <td>few clouds</td>\n",
       "      <td>288.71</td>\n",
       "      <td>88</td>\n",
       "    </tr>\n",
       "    <tr>\n",
       "      <th>5883102</th>\n",
       "      <td>Alberta</td>\n",
       "      <td>-117.47</td>\n",
       "      <td>52.28</td>\n",
       "      <td>Clouds</td>\n",
       "      <td>overcast clouds</td>\n",
       "      <td>277.28</td>\n",
       "      <td>87</td>\n",
       "    </tr>\n",
       "    <tr>\n",
       "      <th>5883166</th>\n",
       "      <td>Alberton</td>\n",
       "      <td>-64.07</td>\n",
       "      <td>46.82</td>\n",
       "      <td>Clouds</td>\n",
       "      <td>overcast clouds</td>\n",
       "      <td>288.66</td>\n",
       "      <td>79</td>\n",
       "    </tr>\n",
       "    <tr>\n",
       "      <th>5883171</th>\n",
       "      <td>Alberton South</td>\n",
       "      <td>-64.08</td>\n",
       "      <td>46.80</td>\n",
       "      <td>Clouds</td>\n",
       "      <td>overcast clouds</td>\n",
       "      <td>288.60</td>\n",
       "      <td>79</td>\n",
       "    </tr>\n",
       "    <tr>\n",
       "      <th>5883187</th>\n",
       "      <td>Albertville</td>\n",
       "      <td>-105.55</td>\n",
       "      <td>53.40</td>\n",
       "      <td>Clouds</td>\n",
       "      <td>overcast clouds</td>\n",
       "      <td>287.15</td>\n",
       "      <td>84</td>\n",
       "    </tr>\n",
       "    <tr>\n",
       "      <th>5883213</th>\n",
       "      <td>Albrights Corner</td>\n",
       "      <td>-66.18</td>\n",
       "      <td>46.02</td>\n",
       "      <td>Clear</td>\n",
       "      <td>clear sky</td>\n",
       "      <td>286.71</td>\n",
       "      <td>77</td>\n",
       "    </tr>\n",
       "  </tbody>\n",
       "</table>\n",
       "</div>"
      ],
      "text/plain": [
       "                          City     Lon    Lat    Main       Description  \\\n",
       "5881688         Fort St. James -124.26  54.46  Clouds   overcast clouds   \n",
       "5881774                  Abbey -108.75  50.73  Clouds     broken clouds   \n",
       "5881791             Abbotsford -122.25  49.06  Clouds  scattered clouds   \n",
       "5881791             Abbotsford -122.25  49.06  Clouds  scattered clouds   \n",
       "5881868               Aberdeen -106.28  52.32  Clouds  scattered clouds   \n",
       "5881941  Abitibi-Témiscamingue  -77.78  48.10  Clouds   overcast clouds   \n",
       "5881954        Aboushagan Road  -64.35  45.98  Clouds  scattered clouds   \n",
       "5882033          Acadia Valley -110.22  51.15  Clouds     broken clouds   \n",
       "5882100                   Acme -113.50  51.50  Clouds   overcast clouds   \n",
       "5882134                  Acton  -80.04  43.63  Clouds  scattered clouds   \n",
       "5882142             Acton Vale  -72.57  45.65   Clear         clear sky   \n",
       "5882351                   Aden -111.32  49.03  Clouds     broken clouds   \n",
       "5882375                Admiral -108.02  49.72   Clear         clear sky   \n",
       "5882534                Agassiz -121.77  49.23   Clear         clear sky   \n",
       "5882599              Agincourt  -79.28  43.78  Clouds     broken clouds   \n",
       "5882640               Aguanish  -62.08  50.22    Mist              mist   \n",
       "5882799                Airdrie -114.04  51.30  Clouds   overcast clouds   \n",
       "5882873                   Ajax  -79.03  43.85  Clouds  scattered clouds   \n",
       "5882953                Aklavik -135.01  68.22  Clouds     broken clouds   \n",
       "5882994               Akulivik  -78.20  60.80   Clear         clear sky   \n",
       "5883027                Alameda -102.28  49.27   Clear         clear sky   \n",
       "5883074                Albanel  -72.45  48.88  Clouds  scattered clouds   \n",
       "5883078                 Albany  -65.05  44.80  Clouds     broken clouds   \n",
       "5883089              Albatross -104.67  50.53   Clear         clear sky   \n",
       "5883093                Alberni -124.80  49.25  Clouds        few clouds   \n",
       "5883102                Alberta -117.47  52.28  Clouds   overcast clouds   \n",
       "5883166               Alberton  -64.07  46.82  Clouds   overcast clouds   \n",
       "5883171         Alberton South  -64.08  46.80  Clouds   overcast clouds   \n",
       "5883187            Albertville -105.55  53.40  Clouds   overcast clouds   \n",
       "5883213       Albrights Corner  -66.18  46.02   Clear         clear sky   \n",
       "\n",
       "           Temp  Humidity  \n",
       "5881688  283.62        66  \n",
       "5881774  286.48        83  \n",
       "5881791  288.34        87  \n",
       "5881791  288.34        87  \n",
       "5881868  286.90        82  \n",
       "5881941  287.15        87  \n",
       "5881954  286.80        87  \n",
       "5882033  290.93        59  \n",
       "5882100  288.93        66  \n",
       "5882134  288.01        63  \n",
       "5882142  286.78        82  \n",
       "5882351  290.65        44  \n",
       "5882375  285.15        81  \n",
       "5882534  286.48        82  \n",
       "5882599  289.86        93  \n",
       "5882640  283.15       100  \n",
       "5882799  288.34        65  \n",
       "5882873  287.17        87  \n",
       "5882953  285.15        54  \n",
       "5882994  281.28        65  \n",
       "5883027  285.37        94  \n",
       "5883074  289.15        77  \n",
       "5883078  286.87        93  \n",
       "5883089  284.15        87  \n",
       "5883093  288.71        88  \n",
       "5883102  277.28        87  \n",
       "5883166  288.66        79  \n",
       "5883171  288.60        79  \n",
       "5883187  287.15        84  \n",
       "5883213  286.71        77  "
      ]
     },
     "execution_count": 5,
     "metadata": {},
     "output_type": "execute_result"
    }
   ],
   "source": [
    "ca_weather = pd.DataFrame({'City':City, 'Lon':Lon, 'Lat':Lat, 'Main':Main, 'Description':Description, 'Temp':Temp, 'Humidity':Humidity, }, index=index)\n",
    "ca_weather"
   ]
  },
  {
   "cell_type": "code",
   "execution_count": 143,
   "metadata": {},
   "outputs": [
    {
     "data": {
      "text/plain": [
       "<pymongo.results.InsertManyResult at 0x142809428c8>"
      ]
     },
     "execution_count": 143,
     "metadata": {},
     "output_type": "execute_result"
    }
   ],
   "source": [
    "data_dict = ca_weather.to_dict('records')\n",
    "\n",
    "client=MongoClient('localhost', 27017)\n",
    "weatherdb=client.APIweather\n",
    "weathercol=weatherdb.APIweathercanada\n",
    "weathercol.insert_many(data_dict)"
   ]
  },
  {
   "cell_type": "code",
   "execution_count": 2,
   "metadata": {},
   "outputs": [],
   "source": [
    "client=MongoClient('localhost', 27017)\n",
    "weatherdb=client.APIweather\n",
    "weathercol=weatherdb.APIweathercanada"
   ]
  },
  {
   "cell_type": "code",
   "execution_count": 7,
   "metadata": {},
   "outputs": [
    {
     "data": {
      "text/plain": [
       "30"
      ]
     },
     "execution_count": 7,
     "metadata": {},
     "output_type": "execute_result"
    }
   ],
   "source": [
    "weathercol.count_documents({})"
   ]
  },
  {
   "cell_type": "markdown",
   "metadata": {},
   "source": [
    "### 3. Extract the datetime in proper readable format."
   ]
  },
  {
   "cell_type": "code",
   "execution_count": 8,
   "metadata": {
    "scrolled": true
   },
   "outputs": [],
   "source": [
    "dt=[]\n",
    "for city in cities:\n",
    "    country='ca'\n",
    "    requestString='https://api.openweathermap.org/data/2.5/weather?q=%s,%s&APPID=%s' % (city,country,key)\n",
    "    res=requests.get(requestString)\n",
    "    mydict = res.json()\n",
    "    dt.append(mydict['dt'])"
   ]
  },
  {
   "cell_type": "code",
   "execution_count": 25,
   "metadata": {},
   "outputs": [
    {
     "name": "stdout",
     "output_type": "stream",
     "text": [
      "2020-06-26 08:52:05\n",
      "2020-06-26 08:52:05\n",
      "2020-06-26 08:50:28\n",
      "2020-06-26 08:50:28\n",
      "2020-06-26 08:52:06\n",
      "2020-06-26 08:48:36\n",
      "2020-06-26 08:52:07\n",
      "2020-06-26 08:52:07\n",
      "2020-06-26 08:49:54\n",
      "2020-06-26 08:52:08\n",
      "2020-06-26 08:52:08\n",
      "2020-06-26 08:52:08\n",
      "2020-06-26 08:52:09\n",
      "2020-06-26 08:52:09\n",
      "2020-06-26 08:49:52\n",
      "2020-06-26 08:52:10\n",
      "2020-06-26 08:52:10\n",
      "2020-06-26 08:52:11\n",
      "2020-06-26 08:52:11\n",
      "2020-06-26 08:52:11\n",
      "2020-06-26 08:52:12\n",
      "2020-06-26 08:52:12\n",
      "2020-06-26 08:52:12\n",
      "2020-06-26 08:52:13\n",
      "2020-06-26 08:52:13\n",
      "2020-06-26 08:52:13\n",
      "2020-06-26 08:52:14\n",
      "2020-06-26 08:52:14\n",
      "2020-06-26 08:52:14\n",
      "2020-06-26 08:52:15\n"
     ]
    }
   ],
   "source": [
    "for x in range(len(dt)):\n",
    "    print(datetime.datetime.utcfromtimestamp(dt[x]).strftime('%Y-%m-%d %H:%M:%S'))"
   ]
  },
  {
   "cell_type": "markdown",
   "metadata": {},
   "source": [
    "### 4. Sort the PyMongo Database collection by temp in descending order."
   ]
  },
  {
   "cell_type": "code",
   "execution_count": 145,
   "metadata": {},
   "outputs": [
    {
     "name": "stdout",
     "output_type": "stream",
     "text": [
      "{'_id': ObjectId('5ef46b80c5c8b5a108d3b1b1'), 'City': 'Albany', 'Lon': -65.05, 'Lat': 44.8, 'Main': 'Clouds', 'Description': 'overcast clouds', 'Temp': 295.27, 'Humidity': 88}\n",
      "{'_id': ObjectId('5ef46b80c5c8b5a108d3b1a1'), 'City': 'Aboushagan Road', 'Lon': -64.35, 'Lat': 45.98, 'Main': 'Clouds', 'Description': 'overcast clouds', 'Temp': 293.92, 'Humidity': 94}\n",
      "{'_id': ObjectId('5ef46b80c5c8b5a108d3b1b6'), 'City': 'Alberton South', 'Lon': -64.08, 'Lat': 46.8, 'Main': 'Clouds', 'Description': 'scattered clouds', 'Temp': 291.65, 'Humidity': 94}\n",
      "{'_id': ObjectId('5ef46b80c5c8b5a108d3b1b5'), 'City': 'Alberton', 'Lon': -64.07, 'Lat': 46.82, 'Main': 'Clouds', 'Description': 'scattered clouds', 'Temp': 291.55, 'Humidity': 94}\n",
      "{'_id': ObjectId('5ef46b80c5c8b5a108d3b19f'), 'City': 'Aberdeen', 'Lon': -106.28, 'Lat': 52.32, 'Main': 'Rain', 'Description': 'light intensity shower rain', 'Temp': 290.12, 'Humidity': 93}\n",
      "{'_id': ObjectId('5ef46b80c5c8b5a108d3b1b8'), 'City': 'Albrights Corner', 'Lon': -66.18, 'Lat': 46.02, 'Main': 'Clouds', 'Description': 'overcast clouds', 'Temp': 290.03, 'Humidity': 88}\n",
      "{'_id': ObjectId('5ef46b80c5c8b5a108d3b1b2'), 'City': 'Albatross', 'Lon': -104.67, 'Lat': 50.53, 'Main': 'Clouds', 'Description': 'few clouds', 'Temp': 289.51, 'Humidity': 87}\n",
      "{'_id': ObjectId('5ef46b80c5c8b5a108d3b1a2'), 'City': 'Acadia Valley', 'Lon': -110.22, 'Lat': 51.15, 'Main': 'Clouds', 'Description': 'overcast clouds', 'Temp': 289.33, 'Humidity': 67}\n",
      "{'_id': ObjectId('5ef46b80c5c8b5a108d3b1af'), 'City': 'Alameda', 'Lon': -102.28, 'Lat': 49.27, 'Main': 'Clouds', 'Description': 'broken clouds', 'Temp': 289.26, 'Humidity': 94}\n",
      "{'_id': ObjectId('5ef46b80c5c8b5a108d3b1a7'), 'City': 'Admiral', 'Lon': -108.02, 'Lat': 49.72, 'Main': 'Clouds', 'Description': 'overcast clouds', 'Temp': 289.15, 'Humidity': 82}\n",
      "{'_id': ObjectId('5ef46b80c5c8b5a108d3b19c'), 'City': 'Abbey', 'Lon': -108.75, 'Lat': 50.73, 'Main': 'Clouds', 'Description': 'overcast clouds', 'Temp': 288.71, 'Humidity': 91}\n",
      "{'_id': ObjectId('5ef46b80c5c8b5a108d3b1b0'), 'City': 'Albanel', 'Lon': -72.45, 'Lat': 48.88, 'Main': 'Clouds', 'Description': 'broken clouds', 'Temp': 288.15, 'Humidity': 77}\n",
      "{'_id': ObjectId('5ef46b80c5c8b5a108d3b1b3'), 'City': 'Alberni', 'Lon': -124.8, 'Lat': 49.25, 'Main': 'Clouds', 'Description': 'broken clouds', 'Temp': 287.59, 'Humidity': 89}\n",
      "{'_id': ObjectId('5ef46b80c5c8b5a108d3b1a9'), 'City': 'Agincourt', 'Lon': -79.28, 'Lat': 43.78, 'Main': 'Clear', 'Description': 'clear sky', 'Temp': 287.56, 'Humidity': 87}\n",
      "{'_id': ObjectId('5ef46b80c5c8b5a108d3b19d'), 'City': 'Abbotsford', 'Lon': -122.25, 'Lat': 49.06, 'Main': 'Clouds', 'Description': 'few clouds', 'Temp': 287.55, 'Humidity': 87}\n",
      "{'_id': ObjectId('5ef46b80c5c8b5a108d3b19e'), 'City': 'Abbotsford', 'Lon': -122.25, 'Lat': 49.06, 'Main': 'Clouds', 'Description': 'few clouds', 'Temp': 287.55, 'Humidity': 87}\n",
      "{'_id': ObjectId('5ef46b80c5c8b5a108d3b1b7'), 'City': 'Albertville', 'Lon': -105.55, 'Lat': 53.4, 'Main': 'Rain', 'Description': 'light rain', 'Temp': 287.5, 'Humidity': 96}\n",
      "{'_id': ObjectId('5ef46b80c5c8b5a108d3b1a6'), 'City': 'Aden', 'Lon': -111.32, 'Lat': 49.03, 'Main': 'Rain', 'Description': 'light rain', 'Temp': 287.31, 'Humidity': 89}\n",
      "{'_id': ObjectId('5ef46b80c5c8b5a108d3b1a8'), 'City': 'Agassiz', 'Lon': -121.77, 'Lat': 49.23, 'Main': 'Clouds', 'Description': 'overcast clouds', 'Temp': 287.15, 'Humidity': 93}\n",
      "{'_id': ObjectId('5ef46b80c5c8b5a108d3b1a5'), 'City': 'Acton Vale', 'Lon': -72.57, 'Lat': 45.65, 'Main': 'Clear', 'Description': 'clear sky', 'Temp': 286.68, 'Humidity': 83}\n",
      "{'_id': ObjectId('5ef46b80c5c8b5a108d3b1ac'), 'City': 'Ajax', 'Lon': -79.03, 'Lat': 43.85, 'Main': 'Clear', 'Description': 'clear sky', 'Temp': 286.2, 'Humidity': 82}\n",
      "{'_id': ObjectId('5ef46b80c5c8b5a108d3b1aa'), 'City': 'Aguanish', 'Lon': -62.08, 'Lat': 50.22, 'Main': 'Clear', 'Description': 'clear sky', 'Temp': 286.15, 'Humidity': 100}\n",
      "{'_id': ObjectId('5ef46b80c5c8b5a108d3b1a4'), 'City': 'Acton', 'Lon': -80.04, 'Lat': 43.63, 'Main': 'Clouds', 'Description': 'broken clouds', 'Temp': 285.23, 'Humidity': 68}\n",
      "{'_id': ObjectId('5ef46b80c5c8b5a108d3b1a0'), 'City': 'Abitibi-Témiscamingue', 'Lon': -77.78, 'Lat': 48.1, 'Main': 'Rain', 'Description': 'light rain', 'Temp': 284.15, 'Humidity': 100}\n",
      "{'_id': ObjectId('5ef46b80c5c8b5a108d3b1ab'), 'City': 'Airdrie', 'Lon': -114.04, 'Lat': 51.3, 'Main': 'Clouds', 'Description': 'broken clouds', 'Temp': 283.89, 'Humidity': 92}\n",
      "{'_id': ObjectId('5ef46b80c5c8b5a108d3b1ad'), 'City': 'Aklavik', 'Lon': -135.01, 'Lat': 68.22, 'Main': 'Clouds', 'Description': 'broken clouds', 'Temp': 283.15, 'Humidity': 61}\n",
      "{'_id': ObjectId('5ef46b80c5c8b5a108d3b1a3'), 'City': 'Acme', 'Lon': -113.5, 'Lat': 51.5, 'Main': 'Clouds', 'Description': 'broken clouds', 'Temp': 282.85, 'Humidity': 53}\n",
      "{'_id': ObjectId('5ef46b80c5c8b5a108d3b19b'), 'City': 'Fort St. James', 'Lon': -124.26, 'Lat': 54.46, 'Main': 'Clouds', 'Description': 'overcast clouds', 'Temp': 282.64, 'Humidity': 60}\n",
      "{'_id': ObjectId('5ef46b80c5c8b5a108d3b1ae'), 'City': 'Akulivik', 'Lon': -78.2, 'Lat': 60.8, 'Main': 'Clear', 'Description': 'clear sky', 'Temp': 280.59, 'Humidity': 68}\n",
      "{'_id': ObjectId('5ef46b80c5c8b5a108d3b1b4'), 'City': 'Alberta', 'Lon': -117.47, 'Lat': 52.28, 'Main': 'Clear', 'Description': 'clear sky', 'Temp': 271.65, 'Humidity': 100}\n"
     ]
    }
   ],
   "source": [
    "for i in weathercol.find().sort('Temp', -1):\n",
    "    print(i)"
   ]
  },
  {
   "cell_type": "code",
   "execution_count": 146,
   "metadata": {},
   "outputs": [
    {
     "data": {
      "text/plain": [
       "30"
      ]
     },
     "execution_count": 146,
     "metadata": {},
     "output_type": "execute_result"
    }
   ],
   "source": [
    "weathercol.count_documents({})"
   ]
  },
  {
   "cell_type": "markdown",
   "metadata": {},
   "source": [
    "### 5. Group the cities by their main weather and count the number of those cities which have similar weather."
   ]
  },
  {
   "cell_type": "code",
   "execution_count": 161,
   "metadata": {},
   "outputs": [],
   "source": [
    "agr = [ {'$group': {'_id': '$Main', 'count': { '$sum': 1 } } } ]"
   ]
  },
  {
   "cell_type": "code",
   "execution_count": 162,
   "metadata": {},
   "outputs": [
    {
     "data": {
      "text/plain": [
       "[{'_id': 'Rain', 'count': 4},\n",
       " {'_id': 'Clear', 'count': 6},\n",
       " {'_id': 'Clouds', 'count': 20}]"
      ]
     },
     "execution_count": 162,
     "metadata": {},
     "output_type": "execute_result"
    }
   ],
   "source": [
    "val=list(weathercol.aggregate(agr))\n",
    "val"
   ]
  }
 ],
 "metadata": {
  "kernelspec": {
   "display_name": "Python 3",
   "language": "python",
   "name": "python3"
  },
  "language_info": {
   "codemirror_mode": {
    "name": "ipython",
    "version": 3
   },
   "file_extension": ".py",
   "mimetype": "text/x-python",
   "name": "python",
   "nbconvert_exporter": "python",
   "pygments_lexer": "ipython3",
   "version": "3.7.6"
  }
 },
 "nbformat": 4,
 "nbformat_minor": 4
}
